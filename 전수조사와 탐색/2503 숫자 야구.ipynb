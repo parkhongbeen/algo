{
 "cells": [
  {
   "cell_type": "code",
   "execution_count": 5,
   "metadata": {},
   "outputs": [],
   "source": [
    "from itertools import product\n",
    "\n",
    "def check(num, c):\n",
    "    for case in c:\n",
    "        s = str(case[0])\n",
    "        strike, ball = 0, 0\n",
    "        for i in range(3):\n",
    "            for j in range(3):\n",
    "                if num[i] == int(s[j]):\n",
    "                    if i == j : strike += 1\n",
    "                    else : ball += 1\n",
    "        if [strike, ball] != case[1:] : return False          \n",
    "    return True\n",
    "    \n",
    "def solution(baseball):\n",
    "    answer = 0\n",
    "    scope = range(1, 10)\n",
    "    for num in product(scope, scope, scope):\n",
    "        if len(set(num)) != 3 : continue\n",
    "        if check(num, baseball) : answer += 1\n",
    "    return answer"
   ]
  },
  {
   "cell_type": "code",
   "execution_count": null,
   "metadata": {},
   "outputs": [],
   "source": []
  },
  {
   "cell_type": "code",
   "execution_count": null,
   "metadata": {},
   "outputs": [],
   "source": []
  }
 ],
 "metadata": {
  "kernelspec": {
   "display_name": "Python 3",
   "language": "python",
   "name": "python3"
  },
  "language_info": {
   "codemirror_mode": {
    "name": "ipython",
    "version": 3
   },
   "file_extension": ".py",
   "mimetype": "text/x-python",
   "name": "python",
   "nbconvert_exporter": "python",
   "pygments_lexer": "ipython3",
   "version": "3.7.4"
  }
 },
 "nbformat": 4,
 "nbformat_minor": 4
}
