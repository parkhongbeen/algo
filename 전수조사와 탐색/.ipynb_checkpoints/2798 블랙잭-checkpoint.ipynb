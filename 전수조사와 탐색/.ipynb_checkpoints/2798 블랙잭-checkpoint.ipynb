{
 "cells": [
  {
   "cell_type": "code",
   "execution_count": 1,
   "metadata": {},
   "outputs": [
    {
     "name": "stdout",
     "output_type": "stream",
     "text": [
      "5 21\n",
      "5 6 7 8 9\n",
      "21\n"
     ]
    }
   ],
   "source": [
    "N, M = map(int, input().split())\n",
    "lst = list(map(int, input().split()))\n",
    "\n",
    "answer = 0\n",
    "for i in range(N):\n",
    "    for j in range(i+1, N):\n",
    "        for k in range(j+1, N):\n",
    "            s = lst[i] + lst[j] + lst[k]\n",
    "            if s <= M:\n",
    "                answer = max(s, answer)\n",
    "\n",
    "print(answer)"
   ]
  },
  {
   "cell_type": "code",
   "execution_count": null,
   "metadata": {},
   "outputs": [],
   "source": []
  }
 ],
 "metadata": {
  "kernelspec": {
   "display_name": "Python 3",
   "language": "python",
   "name": "python3"
  },
  "language_info": {
   "codemirror_mode": {
    "name": "ipython",
    "version": 3
   },
   "file_extension": ".py",
   "mimetype": "text/x-python",
   "name": "python",
   "nbconvert_exporter": "python",
   "pygments_lexer": "ipython3",
   "version": "3.7.4"
  }
 },
 "nbformat": 4,
 "nbformat_minor": 4
}
