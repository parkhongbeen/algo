{
 "cells": [
  {
   "cell_type": "code",
   "execution_count": 3,
   "metadata": {},
   "outputs": [
    {
     "name": "stdout",
     "output_type": "stream",
     "text": [
      "2 3\n",
      "AB CBD\n",
      "45%\n"
     ]
    }
   ],
   "source": [
    "import copy\n",
    "dic = {'A':3,'B':2,'C':1,'D':2,'E':4,'F':3,'G':1,'H':3,\n",
    "       'I':1,'J':1,'K':3,'L':1,'M':3,'N':2,'O':1,'P':2,\n",
    "       'Q':2,'R':2,'S':1,'T':2,'U':1,'V':1,'W':1,'X':2,\n",
    "       'Y':2,'Z':1}\n",
    "N, M = map(int, input().split()) # 숫자를 받을 input\n",
    "A, B = input().split() # 글자를 받을 input\n",
    "\n",
    "min_len = min(N,M) # 숫자를받은값의 min값을 min_len에 할당\n",
    "new = [] # new라는 빈list생성\n",
    "for i in range(min_len): # min_len만큼 for문\n",
    "    new += A[i] + B[i] # A의[i]값과 B의[i]값을 new에다가 더해줌\n",
    "\n",
    "if N > M: # 만약 N이 M보다 크면\n",
    "    new += A[min_len:] # new에다가 A의 min_len의 list모든 값을 다 더해주고\n",
    "elif N < M: # N이 M보다 작으면\n",
    "    new += B[min_len:] # B의 min_len의 list모든 값을 다 더해줌\n",
    "\n",
    "new_num = [] # new_num이라는 빈 list생성\n",
    "for j in new: # 위에 사용했던 new를 for문 돌림\n",
    "    new_num.append(dic[j]) # new_num에다가 append를 사용해서 j를 dic형태로 추가해줌\n",
    "\n",
    "while len(new_num) > 2: # new_num의 길이가 2보다 크다면 while문 실행\n",
    "    temp = [] # temp라는 빈list생성\n",
    "    for k in range(1, len(new_num)): # 1부터 new_num의 길이만큼 for문 돌림\n",
    "        temp_num = new_num[k-1] + new_num[k] # temp_num에다가 new_num의 list형태로 k-1 + new_num의 k값을 더해서 넣어줌\n",
    "        if temp_num >= 10: # 만약 temp_num이 10보다 크거나 같다면\n",
    "            temp_num -= 10 # 조건이 반대가 될때까지 temp_num값을 10씩 빼줌\n",
    "        temp.append(temp_num) # temp에다가 temp_num을 추가해줌\n",
    "    new_num = copy.deepcopy(temp) # new_num에다가 temp를 카피함\n",
    "\n",
    "print(\"{}%\".format(new_num[0]*10 + new_num[1])) # format형태로 print해줌"
   ]
  },
  {
   "cell_type": "code",
   "execution_count": null,
   "metadata": {},
   "outputs": [],
   "source": []
  }
 ],
 "metadata": {
  "kernelspec": {
   "display_name": "Python 3",
   "language": "python",
   "name": "python3"
  },
  "language_info": {
   "codemirror_mode": {
    "name": "ipython",
    "version": 3
   },
   "file_extension": ".py",
   "mimetype": "text/x-python",
   "name": "python",
   "nbconvert_exporter": "python",
   "pygments_lexer": "ipython3",
   "version": "3.7.4"
  }
 },
 "nbformat": 4,
 "nbformat_minor": 4
}
