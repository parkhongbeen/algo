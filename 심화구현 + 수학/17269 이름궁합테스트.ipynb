{
 "cells": [
  {
   "cell_type": "code",
   "execution_count": 3,
   "metadata": {},
   "outputs": [
    {
     "name": "stdout",
     "output_type": "stream",
     "text": [
      "2 3\n",
      "AB CBD\n",
      "45%\n"
     ]
    }
   ],
   "source": [
    "import copy\n",
    "dic = {'A':3,'B':2,'C':1,'D':2,'E':4,'F':3,'G':1,'H':3,'I':1,'J':1,'K':3,'L':1,'M':3,'N':2,'O':1,'P':2,'Q':2,'R':2,'S':1,'T':2,'U':1,'V':1,'W':1,'X':2,'Y':2,'Z':1}\n",
    "N, M = map(int, input().split())\n",
    "A, B = input().split()\n",
    "\n",
    "min_len = min(N,M)\n",
    "new = []\n",
    "for i in range(min_len):\n",
    "    new += A[i] + B[i]\n",
    "\n",
    "if N > M:\n",
    "    new += A[min_len:]\n",
    "elif N < M:\n",
    "    new += B[min_len:]\n",
    "\n",
    "new_num = []\n",
    "for j in new:\n",
    "    new_num.append(dic[j])\n",
    "\n",
    "while len(new_num) > 2:\n",
    "    temp = []\n",
    "    for k in range(1, len(new_num)):\n",
    "        temp_num = new_num[k-1] + new_num[k]\n",
    "        if temp_num >= 10:\n",
    "            temp_num -= 10\n",
    "        temp.append(temp_num)\n",
    "    new_num = copy.deepcopy(temp)\n",
    "\n",
    "print(\"{}%\".format(new_num[0]*10 + new_num[1]))"
   ]
  },
  {
   "cell_type": "code",
   "execution_count": null,
   "metadata": {},
   "outputs": [],
   "source": []
  }
 ],
 "metadata": {
  "kernelspec": {
   "display_name": "Python 3",
   "language": "python",
   "name": "python3"
  },
  "language_info": {
   "codemirror_mode": {
    "name": "ipython",
    "version": 3
   },
   "file_extension": ".py",
   "mimetype": "text/x-python",
   "name": "python",
   "nbconvert_exporter": "python",
   "pygments_lexer": "ipython3",
   "version": "3.7.4"
  }
 },
 "nbformat": 4,
 "nbformat_minor": 4
}
