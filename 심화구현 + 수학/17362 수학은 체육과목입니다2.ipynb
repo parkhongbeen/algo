{
 "cells": [
  {
   "cell_type": "markdown",
   "metadata": {},
   "source": [
    "구현 중에서 대표적으로 어떤 과정을 *시뮬레이션*하는 문제입니다.\n",
    "이 문제에서는 시뮬레이션을 진행하기에는 N 제한이 매우 큽니다. 그래서 N이 큰 경우는 output이 규칙적이라는 성질을 사용합니다.\n",
    "\n",
    "이런 류의 문제는 사이클(Cycle)을 찾는 것이 중요합니다.\n",
    "\n",
    "Cycle의 포인트는 2가지 입니다.\n",
    "\n",
    "Cycle의 시작점\n",
    "Cycle의 주기\n",
    "여기서는 1번에서 시작해서 9번에 다시 1번으로 돌아오는 것을 확인할 수 있습니다. 그렇다면 여기서 사이클 시작은 1, 사이클 주기는 9-1=8 임을 알 수 있습니다. 그렇다면 초기 시작점과 사이클 시작은 같으므로 우리가 원하는 손가락은 N을 8로 나눈 나머지만큼 과정을 진행하면 됩니다.\n",
    "\n",
    "- 보통 시작이 1이면 나머지 연산이 어려운 경우가 있습니다. -1을 하여  0-index로 변환하고, 최종 답안을 +1로 하는 방법이 가장 좋습니다.\n",
    "- 이 문제는 약지를 기준으로 대칭이라는 성질을 가지고 있으므로, 다음과 같이 코드를 작성가능합니다.\n",
    "- 또는 1,2,3,4,5,6,7,8에 대해 조건문을 작성해도 됩니다."
   ]
  },
  {
   "cell_type": "code",
   "execution_count": 2,
   "metadata": {},
   "outputs": [
    {
     "name": "stdout",
     "output_type": "stream",
     "text": [
      "0\n",
      "2\n"
     ]
    }
   ],
   "source": [
    "N = int(input())-1\n",
    "print(min(8-N%8, N%8)+1)"
   ]
  }
 ],
 "metadata": {
  "kernelspec": {
   "display_name": "Python 3",
   "language": "python",
   "name": "python3"
  },
  "language_info": {
   "codemirror_mode": {
    "name": "ipython",
    "version": 3
   },
   "file_extension": ".py",
   "mimetype": "text/x-python",
   "name": "python",
   "nbconvert_exporter": "python",
   "pygments_lexer": "ipython3",
   "version": "3.7.4"
  }
 },
 "nbformat": 4,
 "nbformat_minor": 4
}
