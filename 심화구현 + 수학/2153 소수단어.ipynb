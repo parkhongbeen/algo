{
 "cells": [
  {
   "cell_type": "code",
   "execution_count": 6,
   "metadata": {},
   "outputs": [],
   "source": [
    "# word = {'a':1, 'b':2, 'c':3, 'd':4, 'e':5, 'f':6, 'g':7, 'h':8, 'i':9, 'j':10,\n",
    "#         'k':11, 'l':12, 'n':13, 'm':14, 'o':15, 'p':16, 'q':17, 'r':18, 's':19,\n",
    "#         't':20, 'u':21, 'v':22, 'w':23, 'x':24, 'y':25, 'z':26, 'A':27, 'B':28,\n",
    "#         'C':29, 'D':30, 'E':31, 'F':32, 'G':33, 'H':34, 'I':35, 'J':36, 'K':37,\n",
    "#         'L':38, 'N':39, 'M':40, 'o':41, 'P':42, 'Q':43,'R':44, 'S':45, 'T':46,\n",
    "#         'U':47, 'V':48, 'W':49, 'X':50, 'Y':51, 'Z':52}\n",
    "\n",
    "# n=1000\n",
    "# a = [False,False] + [True]*(n-1)\n",
    "# primes=[]\n",
    "# for i in range(2,n+1):\n",
    "#     if a[i]:\n",
    "#         primes.append(i)\n",
    "#         for j in range(2*i, n+1, i):\n",
    "#             a[j] = False\n",
    "# print(primes)\n",
    "\n",
    "\n",
    "# for i in word[key]:\n",
    "#     print(i)"
   ]
  },
  {
   "cell_type": "code",
   "execution_count": 14,
   "metadata": {},
   "outputs": [
    {
     "name": "stdout",
     "output_type": "stream",
     "text": [
      "0\n",
      "1\n",
      "2\n",
      "3\n",
      "4\n",
      "5\n",
      "6\n",
      "7\n",
      "8\n",
      "9\n"
     ]
    }
   ],
   "source": []
  },
  {
   "cell_type": "code",
   "execution_count": null,
   "metadata": {},
   "outputs": [],
   "source": []
  }
 ],
 "metadata": {
  "kernelspec": {
   "display_name": "Python 3",
   "language": "python",
   "name": "python3"
  },
  "language_info": {
   "codemirror_mode": {
    "name": "ipython",
    "version": 3
   },
   "file_extension": ".py",
   "mimetype": "text/x-python",
   "name": "python",
   "nbconvert_exporter": "python",
   "pygments_lexer": "ipython3",
   "version": "3.7.4"
  }
 },
 "nbformat": 4,
 "nbformat_minor": 4
}
