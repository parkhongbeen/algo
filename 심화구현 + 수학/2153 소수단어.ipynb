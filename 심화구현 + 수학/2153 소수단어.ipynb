{
 "cells": [
  {
   "cell_type": "code",
   "execution_count": 18,
   "metadata": {},
   "outputs": [
    {
     "name": "stdout",
     "output_type": "stream",
     "text": [
      "a\n",
      "It is a prime word.\n"
     ]
    }
   ],
   "source": [
    "pn = [0 for i in range(1050)] #1050개를for문돌리는데그1050에는전부0이할당\n",
    "for i in range(2, 32): #2부터32까지for문을돌림\n",
    "    for j in range(i * 2, 1050, i): #i*2부터1050까지for문을돌리는데증가값은i\n",
    "        pn[j] = 1 #pnindex[j]값은1\n",
    "n = input() #n은input으로입력받음\n",
    "word = 0 #word는0\n",
    "for i in n: #n만큼for문을돌림\n",
    "    if i.islower() == True:#만약i가소문자라면\n",
    "        word += ord(i) - 96 #ord(i)-96값을누적해서word에할당 / #print(ord('a')=>97)\n",
    "    else: #false라면\n",
    "        word += ord(i) - 38 #ord(i)-38값을누적해서word에할당\n",
    "if pn[word] == 0: #만약pn의word가0이라면\n",
    "    print('It is a prime word.') #print하고\n",
    "else: #아니라면\n",
    "    print('It is not a prime word.') #print해라"
   ]
  },
  {
   "cell_type": "code",
   "execution_count": 12,
   "metadata": {},
   "outputs": [
    {
     "ename": "TypeError",
     "evalue": "an integer is required (got type str)",
     "output_type": "error",
     "traceback": [
      "\u001b[0;31m---------------------------------------------------------------------------\u001b[0m",
      "\u001b[0;31mTypeError\u001b[0m                                 Traceback (most recent call last)",
      "\u001b[0;32m<ipython-input-12-26f2dfb2aa4b>\u001b[0m in \u001b[0;36m<module>\u001b[0;34m\u001b[0m\n\u001b[0;32m----> 1\u001b[0;31m \u001b[0mprint\u001b[0m\u001b[0;34m(\u001b[0m\u001b[0mchr\u001b[0m\u001b[0;34m(\u001b[0m\u001b[0;34m'38'\u001b[0m\u001b[0;34m)\u001b[0m\u001b[0;34m)\u001b[0m\u001b[0;34m\u001b[0m\u001b[0;34m\u001b[0m\u001b[0m\n\u001b[0m",
      "\u001b[0;31mTypeError\u001b[0m: an integer is required (got type str)"
     ]
    }
   ],
   "source": []
  },
  {
   "cell_type": "code",
   "execution_count": null,
   "metadata": {},
   "outputs": [],
   "source": []
  }
 ],
 "metadata": {
  "kernelspec": {
   "display_name": "Python 3",
   "language": "python",
   "name": "python3"
  },
  "language_info": {
   "codemirror_mode": {
    "name": "ipython",
    "version": 3
   },
   "file_extension": ".py",
   "mimetype": "text/x-python",
   "name": "python",
   "nbconvert_exporter": "python",
   "pygments_lexer": "ipython3",
   "version": "3.7.4"
  }
 },
 "nbformat": 4,
 "nbformat_minor": 4
}
