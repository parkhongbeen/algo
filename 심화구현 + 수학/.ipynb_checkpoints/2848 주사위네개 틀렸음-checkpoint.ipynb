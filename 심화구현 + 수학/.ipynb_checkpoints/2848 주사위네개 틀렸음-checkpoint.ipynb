{
 "cells": [
  {
   "cell_type": "markdown",
   "metadata": {},
   "source": [
    "#### 문제\n",
    "1에서부터 6까지의 눈을 가진 4개의 주사위를 던져서 다음과 같은 규칙에 따라 상금을 받는 게임이 있다. \n",
    "\n",
    "\n",
    "같은 눈이 4개가 나오면 50,000원+(같은 눈)*5,000원의 상금을 받게 된다. \n",
    "\n",
    "같은 눈이 3개만 나오면 10,000원+(3개가 나온 눈)*1,000원의 상금을 받게 된다. \n",
    "\n",
    "같은 눈이 2개씩 두 쌍이 나오는 경우에는 2,000원+(2개가 나온 눈)*500원+(또 다른 2개가 나온 눈)*500원의 상금을 받게 된다.\n",
    "\n",
    "같은 눈이 2개만 나오는 경우에는 1,000원+(같은 눈)*100원의 상금을 받게 된다. \n",
    "\n",
    "모두 다른 눈이 나오는 경우에는 (그 중 가장 큰 눈)*100원의 상금을 받게 된다.  \n",
    "\n",
    "예를 들어, 4개의 눈이 3, 3, 3, 3으로 주어지면 50,000+3*5,000으로 계산되어 65,000원의 상금을 받게 된다.\n",
    "\n",
    "4개의 눈이 3, 3, 6, 3으로 주어지면 상금은 10,000+3*1,000으로 계산되어 13,000원을 받게 된다.\n",
    "\n",
    "또 4개의 눈이 2, 2, 6, 6으로 주어지면 2,000+2*500+6*500으로 계산되어 6,000원을 받게 된다.\n",
    "\n",
    "4개의 눈이 6, 2, 1, 6으로 주어지면 1,000+6*100으로 계산되어 1,600원을 받게 된다.\n",
    "\n",
    "4개의 눈이 6, 2, 1, 5로 주어지면 그 중 가장 큰 값이 6이므로 6*100으로 계산되어 600원을 상금으로 받게 된다.\n",
    "\n",
    "N(1≤N≤1,000)명이 주사위 게임에 참여하였을 때, 가장 많은 상금을 받은 사람의 상금을 출력하는 프로그램을 작성하시오.\n",
    "\n",
    "#### 입력\n",
    "첫째 줄에는 참여하는 사람 수 N이 주어지고 그 다음 줄부터 N개의 줄에 사람들이 주사위를 던진 4개의 눈이 빈칸을 사이에 두고 각각 주어진다.\n",
    "\n",
    "#### 출력\n",
    "첫째 줄에 가장 많은 상금을 받은 사람의 상금을 출력한다.\n",
    "\n",
    "#### 예제 입력\n",
    "4\n",
    "\n",
    "3 3 3 3\n",
    "\n",
    "3 3 6 3\n",
    "\n",
    "2 2 6 6\n",
    "\n",
    "6 2 1 5\n",
    "\n",
    "#### 예제 출력 \n",
    "65000"
   ]
  },
  {
   "cell_type": "code",
   "execution_count": 4,
   "metadata": {},
   "outputs": [
    {
     "name": "stdout",
     "output_type": "stream",
     "text": [
      "4\n",
      "1 1 1 1\n",
      "1 1 1 2\n",
      "1 1 2 2\n",
      "1 2 3 1\n",
      "55000\n"
     ]
    }
   ],
   "source": [
    "person = int(input())\n",
    "reward_list = []\n",
    "\n",
    "def reward(num):\n",
    "    fun_list = list(map(int, num))\n",
    "    unique_list = list(set(fun_list))\n",
    "    # 모두 같은 수\n",
    "    if len(unique_list) == 1:\n",
    "        reward_list.append((fun_list[0] * 5000) + 50000)\n",
    "    # 단 2개만 같을 때\n",
    "    elif len(unique_list) == 3:\n",
    "        eqal_num = None\n",
    "        fun_list.sort()\n",
    "        unique_list.sort()\n",
    "        for idx in range(3):\n",
    "            if unique_list[idx] != fun_list[idx]:\n",
    "                eqal_num = fun_list[idx]\n",
    "                break\n",
    "        if eqal_num is None:\n",
    "            eqal_num = unique_list[2]       \n",
    "        reward_list.append((eqal_num * 100) + 1000)\n",
    "    # 모두 다른 수\n",
    "    elif len(unique_list) == 4:\n",
    "        reward_list.append(max(fun_list) * 100)\n",
    "    # 2개 2개가 같거나 3개가 같을 때\n",
    "    else:\n",
    "        fun_list.sort()\n",
    "        unique_list.sort()\n",
    "        # 2개 2개 일 때\n",
    "        if (unique_list[0] == fun_list[1]) and (unique_list[1] == fun_list[2]):\n",
    "            reward_list.append((unique_list[0] * 500) + (unique_list[1] * 500) + 2000)\n",
    "        # 3개 1개 일 때\n",
    "        else:\n",
    "            eqal_num = None\n",
    "            for idx in range(2):\n",
    "                if unique_list[idx] != fun_list[idx]:\n",
    "                    eqal_num = fun_list[idx]\n",
    "                    break\n",
    "            if eqal_num is None:\n",
    "                eqal_num = unique_list[1]\n",
    "            reward_list.append((eqal_num * 1000) + 10000)\n",
    "for i in range(person):\n",
    "    reward(input().split())    \n",
    "print(max(reward_list))"
   ]
  },
  {
   "cell_type": "code",
   "execution_count": null,
   "metadata": {},
   "outputs": [],
   "source": []
  }
 ],
 "metadata": {
  "kernelspec": {
   "display_name": "Python 3",
   "language": "python",
   "name": "python3"
  },
  "language_info": {
   "codemirror_mode": {
    "name": "ipython",
    "version": 3
   },
   "file_extension": ".py",
   "mimetype": "text/x-python",
   "name": "python",
   "nbconvert_exporter": "python",
   "pygments_lexer": "ipython3",
   "version": "3.7.4"
  }
 },
 "nbformat": 4,
 "nbformat_minor": 4
}
