{
 "cells": [
  {
   "cell_type": "code",
   "execution_count": null,
   "metadata": {},
   "outputs": [],
   "source": [
    "# Top-Down / 파이썬은 재귀가 느리기때문에 Bottomup방식 추천\n",
    "N = int(input())\n",
    "DP = [0 for _ in range(N+1)]\n",
    "\n",
    "def fib(n):\n",
    "    if n < 2: return n\n",
    "    if DP[n] != 0: return DP[n]\n",
    "    DP[n] = fib(n-1) + fib(n-2)\n",
    "    return DP[n]\n",
    "\n",
    "print(fib(N))"
   ]
  },
  {
   "cell_type": "code",
   "execution_count": 4,
   "metadata": {},
   "outputs": [
    {
     "name": "stdout",
     "output_type": "stream",
     "text": [
      "10\n",
      "55\n"
     ]
    }
   ],
   "source": [
    "# bottom-up\n",
    "N = int(input())\n",
    "DP = [0 for _ in range(N+1)]\n",
    "DP[1] = 1\n",
    "\n",
    "for i in range(2, N+1): DP[i] = DP[i-1] + DP[i-2]\n",
    "\n",
    "print(DP[N])"
   ]
  }
 ],
 "metadata": {
  "kernelspec": {
   "display_name": "Python 3",
   "language": "python",
   "name": "python3"
  },
  "language_info": {
   "codemirror_mode": {
    "name": "ipython",
    "version": 3
   },
   "file_extension": ".py",
   "mimetype": "text/x-python",
   "name": "python",
   "nbconvert_exporter": "python",
   "pygments_lexer": "ipython3",
   "version": "3.7.4"
  }
 },
 "nbformat": 4,
 "nbformat_minor": 4
}
