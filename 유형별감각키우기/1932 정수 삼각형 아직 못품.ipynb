{
 "cells": [
  {
   "cell_type": "code",
   "execution_count": 1,
   "metadata": {},
   "outputs": [
    {
     "name": "stdout",
     "output_type": "stream",
     "text": [
      "1\n",
      "2 3\n",
      "[0, 0]\n"
     ]
    }
   ],
   "source": [
    "N = int(input())\n",
    "\n",
    "# DP[i][j] : i, j에 왔을때 최댓값\n",
    "DP = [[0 for _ in range(N+1)] for _ in range(N+1)]\n",
    "\n",
    "for i in range(N):\n",
    "    lst = list(map(int, input().split()))\n",
    "    for j in range(i):\n",
    "        DP[i][j] = max(DP[i-1][j], DP[i-1][j-1] + lst[j])\n",
    "        \n",
    "print(max(DP))"
   ]
  },
  {
   "cell_type": "code",
   "execution_count": null,
   "metadata": {},
   "outputs": [],
   "source": []
  }
 ],
 "metadata": {
  "kernelspec": {
   "display_name": "Python 3",
   "language": "python",
   "name": "python3"
  },
  "language_info": {
   "codemirror_mode": {
    "name": "ipython",
    "version": 3
   },
   "file_extension": ".py",
   "mimetype": "text/x-python",
   "name": "python",
   "nbconvert_exporter": "python",
   "pygments_lexer": "ipython3",
   "version": "3.7.4"
  }
 },
 "nbformat": 4,
 "nbformat_minor": 4
}
