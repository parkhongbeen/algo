{
 "cells": [
  {
   "cell_type": "code",
   "execution_count": null,
   "metadata": {},
   "outputs": [],
   "source": [
    "N, M = map(int, input().split())\n",
    "\n",
    "#시작인덱스가 0,0\n",
    "A = [list(map(int, input().split())) for _ in range(N)]  # 0-index\n",
    "#시작인덱스가 1,1\n",
    "DP = [[0 for i in range(M+1)] for j in range(N+1)]  # 1-index\n",
    "\n",
    "#1. 누적합을 구하는과정\n",
    "for i in range(1, N+1):\n",
    "    for j in range(1, M+1):\n",
    "        DP[i][j] = DP[i-1][j] + DP[i][j-1] - DP[i-1][j-1] + A[i-1][j-1]\n",
    "\n",
    "#2. 쿼리를 구하는 과정\n",
    "K = int(input())\n",
    "for _ in range(K):\n",
    "    i, j, x, y = map(int, input().split())\n",
    "    print(DP[x][y] - DP[i-1][y] - DP[x][j-1] + DP[i-1][j-1])"
   ]
  }
 ],
 "metadata": {
  "kernelspec": {
   "display_name": "Python 3",
   "language": "python",
   "name": "python3"
  },
  "language_info": {
   "codemirror_mode": {
    "name": "ipython",
    "version": 3
   },
   "file_extension": ".py",
   "mimetype": "text/x-python",
   "name": "python",
   "nbconvert_exporter": "python",
   "pygments_lexer": "ipython3",
   "version": "3.7.4"
  }
 },
 "nbformat": 4,
 "nbformat_minor": 4
}
