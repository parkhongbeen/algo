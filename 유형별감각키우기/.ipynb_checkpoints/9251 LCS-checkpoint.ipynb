{
 "cells": [
  {
   "cell_type": "code",
   "execution_count": 4,
   "metadata": {},
   "outputs": [
    {
     "name": "stdout",
     "output_type": "stream",
     "text": [
      "ACAYKP\n",
      "CAPCAK\n",
      "4\n"
     ]
    }
   ],
   "source": [
    "A, B = input(), input()\n",
    "A_len, B_len = len(A), len(B)\n",
    "\n",
    "\n",
    "DP = [[0 for _ in range(B_len+1)] for _ in range(A_len+1)]\n",
    "\n",
    "for i in range(A_len):\n",
    "    for j in range(B_len):\n",
    "        DP[i+1][j+1] = max(DP[i+1][j], DP[i][j+1])\n",
    "        if A[i] == B[j]:\n",
    "            DP[i+1][j+1] = max(DP[i+1][j+1], DP[i][j]+1)\n",
    "            \n",
    "print(DP[A_len][B_len])"
   ]
  },
  {
   "cell_type": "code",
   "execution_count": null,
   "metadata": {},
   "outputs": [],
   "source": []
  }
 ],
 "metadata": {
  "kernelspec": {
   "display_name": "Python 3",
   "language": "python",
   "name": "python3"
  },
  "language_info": {
   "codemirror_mode": {
    "name": "ipython",
    "version": 3
   },
   "file_extension": ".py",
   "mimetype": "text/x-python",
   "name": "python",
   "nbconvert_exporter": "python",
   "pygments_lexer": "ipython3",
   "version": "3.7.4"
  }
 },
 "nbformat": 4,
 "nbformat_minor": 4
}
