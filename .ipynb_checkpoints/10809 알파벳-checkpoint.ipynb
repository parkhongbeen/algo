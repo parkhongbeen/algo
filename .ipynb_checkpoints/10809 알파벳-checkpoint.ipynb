{
 "cells": [
  {
   "cell_type": "markdown",
   "metadata": {},
   "source": [
    "#### 문제\n",
    "알파벳 소문자로만 이루어진 단어 S가 주어진다. 각각의 알파벳에 대해서, 단어에 포함되어 있는 경우에는 처음 등장하는 위치를, 포함되어 있지 않은 경우에는 -1을 출력하는 프로그램을 작성하시오.\n",
    "\n",
    "#### 입력\n",
    "첫째 줄에 단어 S가 주어진다. 단어의 길이는 100을 넘지 않으며, 알파벳 소문자로만 이루어져 있다.\n",
    "\n",
    "#### 출력\n",
    "각각의 알파벳에 대해서, a가 처음 등장하는 위치, b가 처음 등장하는 위치, ... z가 처음 등장하는 위치를 공백으로 구분해서 출력한다.\n",
    "만약, 어떤 알파벳이 단어에 포함되어 있지 않다면 -1을 출력한다. 단어의 첫 번째 글자는 0번째 위치이고, 두 번째 글자는 1번째 위치이다.\n",
    "\n",
    "#### 예제 입력 \n",
    "baekjoon\n",
    "\n",
    "#### 예제 출력 \n",
    "1 0 -1 -1 2 -1 -1 -1 -1 4 3 -1 -1 7 5 -1 -1 -1 -1 -1 -1 -1 -1 -1 -1 -1"
   ]
  },
  {
   "cell_type": "code",
   "execution_count": null,
   "metadata": {},
   "outputs": [],
   "source": [
    "a = str(input())\n",
    "b = ['a', 'b', 'c', 'd', 'e', 'f', 'g', 'h', 'i', 'j', 'k', 'l', 'n', 'm', 'o', 'p', 'q', 'r', 's', 't', 'u', 'v', 'w', 'x', 'y', 'z']\n"
   ]
  },
  {
   "cell_type": "markdown",
   "metadata": {},
   "source": [
    "입력받을 문자열, a-z 리스트, -1로 구성된 리스트가 필요하다.\n",
    "문자 하나가 a-z중 어느 것에 해당하는지 찾는다.\n",
    "아직 첫번째 위치를 모르는 해당 문자를 찾았다면 -1로 구성된 리스트에 찾은 위치 값을 넣는다.\n",
    "소스코드\n",
    "\n",
    "\n",
    "\n",
    "#알파벳은 26자\n",
    "\n",
    "a = str(input())\n",
    "b = ['a','b','c','d','e','f','g','h','i','j','k','l','m','n','o','p','q','r','s','t','u','v','w','x','y','z'] #a-z 리스트\n",
    "c = [-1 for i in range(26)] #-1로 구성된 리스트\n",
    "\n",
    "for i in range(len(a)): #입력된 단어에 있는 문자 갯수만큼 반복\n",
    "    for j in range(len(b)):  #알파벳 갯수만큼 반복\n",
    "        if a[i] == b[j]: #입력된 문자랑 알파벳이 같다면\n",
    "            if num[j] == -1: #처음 등장하는 위치를 아직 모른다면\n",
    "                num[j] = i #해당 알파벳의 자리에 위치 넣는다\n",
    "\n",
    "for i in range(len(c)):\n",
    "    print(num[i], end=' ')\n",
    "\n",
    "\n",
    "\n"
   ]
  },
  {
   "cell_type": "code",
   "execution_count": 4,
   "metadata": {},
   "outputs": [
    {
     "name": "stdout",
     "output_type": "stream",
     "text": [
      "baekjoon\n",
      "1 0 -1 -1 2 -1 -1 -1 -1 4 3 -1 -1 7 5 -1 -1 -1 -1 -1 -1 -1 -1 -1 -1 -1 "
     ]
    }
   ],
   "source": [
    "a = str(input())\n",
    "b = ['a','b','c','d','e','f','g','h','i','j','k','l','m','n','o','p','q','r','s','t','u','v','w','x','y','z'] #a-z 리스트\n",
    "c = [-1 for i in range(26)] #-1로 구성된 리스트\n",
    "\n",
    "for i in range(len(a)): #입력된 단어에 있는 문자 갯수만큼 반복\n",
    "    for j in range(len(b)):  #알파벳 갯수만큼 반복\n",
    "        if a[i] == b[j]: #입력된 문자랑 알파벳이 같다면\n",
    "            if c[j] == -1: #처음 등장하는 위치를 아직 모른다면\n",
    "                c[j] = i #해당 알파벳의 자리에 위치 넣는다\n",
    "\n",
    "for i in range(len(c)):\n",
    "    print(c[i], end=' ')\n"
   ]
  },
  {
   "cell_type": "code",
   "execution_count": null,
   "metadata": {},
   "outputs": [],
   "source": []
  }
 ],
 "metadata": {
  "kernelspec": {
   "display_name": "Python 3",
   "language": "python",
   "name": "python3"
  },
  "language_info": {
   "codemirror_mode": {
    "name": "ipython",
    "version": 3
   },
   "file_extension": ".py",
   "mimetype": "text/x-python",
   "name": "python",
   "nbconvert_exporter": "python",
   "pygments_lexer": "ipython3",
   "version": "3.7.4"
  }
 },
 "nbformat": 4,
 "nbformat_minor": 4
}
