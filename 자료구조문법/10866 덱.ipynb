{
 "cells": [
  {
   "cell_type": "code",
   "execution_count": 2,
   "metadata": {},
   "outputs": [
    {
     "name": "stdout",
     "output_type": "stream",
     "text": [
      "1\n",
      "2\n"
     ]
    }
   ],
   "source": [
    "# import sys\n",
    "from collections import deque\n",
    "# input = sys.stdin.readline\n",
    "\n",
    "N = int(input())\n",
    "dq = deque()\n",
    "\n",
    "for i in range(N):\n",
    "    cmd = input().split()\n",
    "    if cmd[0] == 'push_front': dq.appendleft(cmd[1])\n",
    "    if cmd[0] == 'push_back': dq.append(cmd[1])\n",
    "    if cmd[0] == 'pop_front': print(dq.popleft() if len(dq) else -1)\n",
    "    if cmd[0] == 'pop_back': print(dq.pop() if len(dq) else -1)\n",
    "    if cmd[0] == 'size': print(len(dq))\n",
    "    if cmd[0] == 'empty': print(int(len(dq) == 0))\n",
    "    if cmd[0] == 'front': print(dq[0] if len(dq) else -1)\n",
    "    if cmd[0] == 'back': print(dq[-1] if len(dq) else -1)"
   ]
  },
  {
   "cell_type": "markdown",
   "metadata": {},
   "source": []
  }
 ],
 "metadata": {
  "kernelspec": {
   "display_name": "Python 3",
   "language": "python",
   "name": "python3"
  },
  "language_info": {
   "codemirror_mode": {
    "name": "ipython",
    "version": 3
   },
   "file_extension": ".py",
   "mimetype": "text/x-python",
   "name": "python",
   "nbconvert_exporter": "python",
   "pygments_lexer": "ipython3",
   "version": "3.7.4"
  }
 },
 "nbformat": 4,
 "nbformat_minor": 4
}
