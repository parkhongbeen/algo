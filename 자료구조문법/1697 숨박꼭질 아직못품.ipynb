{
 "cells": [
  {
   "cell_type": "code",
   "execution_count": 6,
   "metadata": {},
   "outputs": [
    {
     "name": "stdout",
     "output_type": "stream",
     "text": [
      "5 17\n",
      "2\n"
     ]
    }
   ],
   "source": [
    "from collections import deque\n",
    "\n",
    "N, K = map(int, input().split())\n",
    "\n",
    "ck = [-1 for i in range(20000)]\n",
    "q = deque()\n",
    "\n",
    "ck[N] = 0\n",
    "q.append(N)\n",
    "\n",
    "while len(q)> 0:\n",
    "    front = q.popleft()\n",
    "    if front == K:\n",
    "        print(ck[K])\n",
    "        break\n",
    "    if front-1 >= 0 and ck[front-1] == -1:\n",
    "        ck[front-1] == ck[front] + 1\n",
    "        q.append(front-1)\n",
    "    if front+1 < len(ck) and ck[front+1] == -1:\n",
    "        ck[front+1] = ck[front] + 1\n",
    "        q.append(front+1)\n",
    "    if front*2 < len(ck) and ck[front*2] == -1:\n",
    "        ck[front*2] = ck[front] + 1\n",
    "        q.append(front*2)"
   ]
  },
  {
   "cell_type": "code",
   "execution_count": null,
   "metadata": {},
   "outputs": [],
   "source": []
  }
 ],
 "metadata": {
  "kernelspec": {
   "display_name": "Python 3",
   "language": "python",
   "name": "python3"
  },
  "language_info": {
   "codemirror_mode": {
    "name": "ipython",
    "version": 3
   },
   "file_extension": ".py",
   "mimetype": "text/x-python",
   "name": "python",
   "nbconvert_exporter": "python",
   "pygments_lexer": "ipython3",
   "version": "3.7.4"
  }
 },
 "nbformat": 4,
 "nbformat_minor": 4
}
