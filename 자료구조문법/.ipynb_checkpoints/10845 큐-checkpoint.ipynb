{
 "cells": [
  {
   "cell_type": "code",
   "execution_count": 2,
   "metadata": {},
   "outputs": [
    {
     "name": "stdout",
     "output_type": "stream",
     "text": [
      "1\n",
      "2\n"
     ]
    }
   ],
   "source": [
    "# import sys\n",
    "from collections import deque\n",
    "# input = sys.stdin.readline\n",
    "\n",
    "N = int(input())\n",
    "\n",
    "stk = []\n",
    "\n",
    "for i in range(N):\n",
    "    cmd = input().split()\n",
    "    if cmd[0] == 'push': \n",
    "        stk.append(cmd[1])\n",
    "        \n",
    "    if cmd[0] == 'pop':\n",
    "        print(stk.pop(0) if len(stk) else -1)\n",
    "        \n",
    "    if cmd[0] == 'size':\n",
    "        print(len(stk))\n",
    "        \n",
    "    if cmd[0] == 'empty':\n",
    "        print(int(len(stk) == 0))\n",
    "    \n",
    "    if cmd[0] == 'front':\n",
    "        print(stk[0] if len(stk) else -1)\n",
    "    \n",
    "    if cmd[0] == 'back':\n",
    "        print(stk[-1] if len(stk) else -1)"
   ]
  },
  {
   "cell_type": "markdown",
   "metadata": {},
   "source": []
  },
  {
   "cell_type": "code",
   "execution_count": null,
   "metadata": {},
   "outputs": [],
   "source": []
  }
 ],
 "metadata": {
  "kernelspec": {
   "display_name": "Python 3",
   "language": "python",
   "name": "python3"
  },
  "language_info": {
   "codemirror_mode": {
    "name": "ipython",
    "version": 3
   },
   "file_extension": ".py",
   "mimetype": "text/x-python",
   "name": "python",
   "nbconvert_exporter": "python",
   "pygments_lexer": "ipython3",
   "version": "3.7.4"
  }
 },
 "nbformat": 4,
 "nbformat_minor": 4
}
