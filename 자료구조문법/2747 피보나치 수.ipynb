{
 "cells": [
  {
   "cell_type": "code",
   "execution_count": null,
   "metadata": {},
   "outputs": [],
   "source": [
    "#TopDown방식 / 파이썬은 재귀함수가 느리기때문에 아래 BottomUp방식으로 푸는게 더 좋음\n",
    "N = int(input())\n",
    "DP = [0 for _ in range(N+1)]\n",
    "\n",
    "def fib(n):\n",
    "    if n < 2:\n",
    "        return n\n",
    "    if DP[n] != 0:\n",
    "        return DP(n)\n",
    "    DP[n] = fib(n-1) + fib(n-2)\n",
    "    return DP[n]\n",
    "\n",
    "print(fib(N))"
   ]
  },
  {
   "cell_type": "code",
   "execution_count": 4,
   "metadata": {},
   "outputs": [
    {
     "name": "stdout",
     "output_type": "stream",
     "text": [
      "10\n",
      "55\n"
     ]
    }
   ],
   "source": [
    "#BottomUp방식\n",
    "N = int(input())\n",
    "DP = [0 for _ in range(50)]\n",
    "DP[1] = 1\n",
    "\n",
    "for i in range(2, N+1):\n",
    "    DP[i] = DP[i-1] + DP[i-2]\n",
    "    \n",
    "print(DP[N])"
   ]
  }
 ],
 "metadata": {
  "kernelspec": {
   "display_name": "Python 3",
   "language": "python",
   "name": "python3"
  },
  "language_info": {
   "codemirror_mode": {
    "name": "ipython",
    "version": 3
   },
   "file_extension": ".py",
   "mimetype": "text/x-python",
   "name": "python",
   "nbconvert_exporter": "python",
   "pygments_lexer": "ipython3",
   "version": "3.7.4"
  }
 },
 "nbformat": 4,
 "nbformat_minor": 4
}
