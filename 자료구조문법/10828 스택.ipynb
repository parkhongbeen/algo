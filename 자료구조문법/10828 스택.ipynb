{
 "cells": [
  {
   "cell_type": "code",
   "execution_count": null,
   "metadata": {},
   "outputs": [],
   "source": [
    "import sys\n",
    "input = sys.stdin.readline\n",
    "\n",
    "N = int(input())\n",
    "\n",
    "stk = []\n",
    "\n",
    "for i in range(N):\n",
    "    cmd = input().split()\n",
    "    if cmd[0] == 'push': \n",
    "        stk.append(cmd[1])\n",
    "        \n",
    "    if cmd[0] == 'pop':\n",
    "        print(stk.pop() if len(stk) else -1)\n",
    "        \n",
    "    if cmd[0] == 'size':\n",
    "        print(len(stk))\n",
    "        \n",
    "    if cmd[0] == 'empty':\n",
    "        print(int(len(stk) == 0))\n",
    "\n",
    "    if cmd[0] == 'top':\n",
    "        print(stk[-1] if len(stk) else -1)"
   ]
  }
 ],
 "metadata": {
  "kernelspec": {
   "display_name": "Python 3",
   "language": "python",
   "name": "python3"
  },
  "language_info": {
   "codemirror_mode": {
    "name": "ipython",
    "version": 3
   },
   "file_extension": ".py",
   "mimetype": "text/x-python",
   "name": "python",
   "nbconvert_exporter": "python",
   "pygments_lexer": "ipython3",
   "version": "3.7.4"
  }
 },
 "nbformat": 4,
 "nbformat_minor": 4
}
