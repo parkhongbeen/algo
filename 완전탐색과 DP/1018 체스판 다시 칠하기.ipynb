{
 "cells": [
  {
   "cell_type": "code",
   "execution_count": 5,
   "metadata": {},
   "outputs": [
    {
     "name": "stdout",
     "output_type": "stream",
     "text": [
      "8 8\n",
      "WBWBWBWB\n",
      "BWBWBWBW\n",
      "WBWBWBWB\n",
      "BWBBBWBW\n",
      "WBWBWBWB\n",
      "BWBWBWBW\n",
      "WBWBWBWB\n",
      "BWBWBWBW\n",
      "1\n"
     ]
    }
   ],
   "source": [
    "N, M = map(int, input().split())\n",
    "Board = [input() for _ in range(N)]\n",
    "answer = 65 # 8*8최대값을 만들어놓음\n",
    "\n",
    "def check(i, j):\n",
    "    W, B = 0, 0\n",
    "    for x in range(8):\n",
    "        for y in range(8):\n",
    "            color = Board[i+x][j+y]\n",
    "            if color == 'W':\n",
    "                # 시작점이 W\n",
    "                # (x+y) % 2 == 0 이경우는 W\n",
    "                # (x+y) % 2 == 1 이경우는 B\n",
    "                if (x +y) % 2 == 1 : W += 1\n",
    "                # 시작점이 B\n",
    "                else: B += 1\n",
    "            if color == 'B':\n",
    "                # 시작점이 W\n",
    "                if(x+y) % 2 == 0 : W += 1\n",
    "                else: B += 1\n",
    "                # 시작점이 B\n",
    "    return min(W, B)\n",
    "                \n",
    "for i in range(N-8+1):\n",
    "    for j in range(M-8+1):\n",
    "        result = check(i, j)\n",
    "        answer = min(result, answer)\n",
    "        \n",
    "print(answer)"
   ]
  },
  {
   "cell_type": "code",
   "execution_count": null,
   "metadata": {},
   "outputs": [],
   "source": []
  }
 ],
 "metadata": {
  "kernelspec": {
   "display_name": "Python 3",
   "language": "python",
   "name": "python3"
  },
  "language_info": {
   "codemirror_mode": {
    "name": "ipython",
    "version": 3
   },
   "file_extension": ".py",
   "mimetype": "text/x-python",
   "name": "python",
   "nbconvert_exporter": "python",
   "pygments_lexer": "ipython3",
   "version": "3.7.4"
  }
 },
 "nbformat": 4,
 "nbformat_minor": 4
}
