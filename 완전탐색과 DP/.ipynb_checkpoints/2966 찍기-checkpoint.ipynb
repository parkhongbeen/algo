{
 "cells": [
  {
   "cell_type": "code",
   "execution_count": 11,
   "metadata": {},
   "outputs": [
    {
     "name": "stdout",
     "output_type": "stream",
     "text": [
      "9\n",
      "AAAABBBBB\n",
      "4\n",
      "Adrian\n",
      "Bruno\n",
      "Goran\n"
     ]
    }
   ],
   "source": [
    "patten = ['ABC', 'BABC', 'CCAABB'] # 패턴을 리스트로 저장\n",
    "nick = ['Adrian', 'Bruno', 'Goran'] # 닉네임을 리스트로 저장\n",
    "\n",
    "N, ans = int(input()), input() #정답갯수입력받고 정답(str)을 입력받음\n",
    "\n",
    "def f(N, str, ans):\n",
    "    return sum([int(a==b) for a, b in zip(str, ans)])\n",
    "\n",
    "score = [f(N, i*50, ans) for i in patten]\n",
    "mx = max(score)\n",
    "\n",
    "print(mx)\n",
    "for sc, n in zip(score, nick):\n",
    "    if sc == mx : print(n)"
   ]
  },
  {
   "cell_type": "code",
   "execution_count": null,
   "metadata": {},
   "outputs": [],
   "source": []
  }
 ],
 "metadata": {
  "kernelspec": {
   "display_name": "Python 3",
   "language": "python",
   "name": "python3"
  },
  "language_info": {
   "codemirror_mode": {
    "name": "ipython",
    "version": 3
   },
   "file_extension": ".py",
   "mimetype": "text/x-python",
   "name": "python",
   "nbconvert_exporter": "python",
   "pygments_lexer": "ipython3",
   "version": "3.7.4"
  }
 },
 "nbformat": 4,
 "nbformat_minor": 4
}
