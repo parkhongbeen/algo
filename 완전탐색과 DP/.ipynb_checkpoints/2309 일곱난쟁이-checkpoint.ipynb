{
 "cells": [
  {
   "cell_type": "code",
   "execution_count": 13,
   "metadata": {},
   "outputs": [
    {
     "name": "stdout",
     "output_type": "stream",
     "text": [
      "20\n",
      "7\n",
      "23\n",
      "19\n",
      "10\n",
      "15\n",
      "25\n",
      "8\n",
      "13\n",
      "7\n",
      "8\n",
      "10\n",
      "13\n",
      "19\n",
      "20\n",
      "23\n"
     ]
    }
   ],
   "source": [
    "s = []\n",
    "for i in range(9):\n",
    "    s.append(int(input()))\n",
    "sum_s = sum(s)\n",
    "\n",
    "for i in range(8):\n",
    "    for j in range(i + 1, 9):\n",
    "        if sum_s - (s[i] + s[j]) == 100:\n",
    "            over_num1 = s[i]\n",
    "            lier1 = s[i]\n",
    "            lier2 = s[j]\n",
    "\n",
    "s.remove(lier1)\n",
    "s.remove(lier2)\n",
    "s.sort()\n",
    "for i in s:\n",
    "    print(i)"
   ]
  },
  {
   "cell_type": "code",
   "execution_count": null,
   "metadata": {},
   "outputs": [],
   "source": []
  }
 ],
 "metadata": {
  "kernelspec": {
   "display_name": "Python 3",
   "language": "python",
   "name": "python3"
  },
  "language_info": {
   "codemirror_mode": {
    "name": "ipython",
    "version": 3
   },
   "file_extension": ".py",
   "mimetype": "text/x-python",
   "name": "python",
   "nbconvert_exporter": "python",
   "pygments_lexer": "ipython3",
   "version": "3.7.4"
  }
 },
 "nbformat": 4,
 "nbformat_minor": 4
}
