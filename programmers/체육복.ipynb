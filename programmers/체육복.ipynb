{
 "cells": [
  {
   "cell_type": "code",
   "execution_count": 2,
   "metadata": {},
   "outputs": [],
   "source": [
    "def solution(n, lost, reserve):\n",
    "    set_reserve = set(reserve) - set(lost) #set함수로 중복제거 / 여분이있는학생 - 도난당한학생\n",
    "    set_lost = set(lost) - set(reserve) #set함수로 중복제거 / 도난당한학생 - 여분이있는학생\n",
    "    for i in set_reserve: # 여분체육복을 가져온 학생을 i 에 담음\n",
    "        if i-1 in set_lost: #set_lost안에 i-1(왼쪽)이 있으면\n",
    "            set_lost.remove(i-1) #remove\n",
    "        elif i+1 in set_lost:#set_lost안에 i+1(오른쪽)이 있으면\n",
    "            set_lost.remove(i+1) # remove\n",
    "    return n-len(set_lost) #전체-체육복을도난당한학생"
   ]
  },
  {
   "cell_type": "code",
   "execution_count": null,
   "metadata": {},
   "outputs": [],
   "source": []
  }
 ],
 "metadata": {
  "kernelspec": {
   "display_name": "Python 3",
   "language": "python",
   "name": "python3"
  },
  "language_info": {
   "codemirror_mode": {
    "name": "ipython",
    "version": 3
   },
   "file_extension": ".py",
   "mimetype": "text/x-python",
   "name": "python",
   "nbconvert_exporter": "python",
   "pygments_lexer": "ipython3",
   "version": "3.7.4"
  }
 },
 "nbformat": 4,
 "nbformat_minor": 4
}
