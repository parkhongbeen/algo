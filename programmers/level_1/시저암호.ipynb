{
 "cells": [
  {
   "cell_type": "code",
   "execution_count": 239,
   "metadata": {},
   "outputs": [],
   "source": [
    "# 아스키코드 65~90대문자 // 97~122소문자\n",
    "\n",
    "def solution(s, n):\n",
    "    answer = ''\n",
    "    code = []\n",
    "    for i in range(len(s)):\n",
    "        code.append(ord(s[i]))\n",
    "    \n",
    "    for i in range(len(code)):\n",
    "        if 65 <= code[i] <= 90:\n",
    "            if  code[i] + n > 90:\n",
    "                code[i] = code[i] - 26\n",
    "                \n",
    "        elif 97 <= code[i] <= 122:\n",
    "            if code[i] + n > 122:\n",
    "                code[i] = code[i] - 26\n",
    "        \n",
    "        elif code[i] == 32:\n",
    "            code[i] = code[i] - n\n",
    "            \n",
    "        answer += chr(code[i] + n)\n",
    "        \n",
    "    return answer"
   ]
  },
  {
   "cell_type": "code",
   "execution_count": 240,
   "metadata": {},
   "outputs": [
    {
     "data": {
      "text/plain": [
       "'BC'"
      ]
     },
     "execution_count": 240,
     "metadata": {},
     "output_type": "execute_result"
    }
   ],
   "source": [
    "solution(\"AB\", 1)"
   ]
  },
  {
   "cell_type": "code",
   "execution_count": 241,
   "metadata": {},
   "outputs": [
    {
     "data": {
      "text/plain": [
       "'a'"
      ]
     },
     "execution_count": 241,
     "metadata": {},
     "output_type": "execute_result"
    }
   ],
   "source": [
    "solution(\"z\", 1)"
   ]
  },
  {
   "cell_type": "code",
   "execution_count": 242,
   "metadata": {},
   "outputs": [
    {
     "data": {
      "text/plain": [
       "'b C a'"
      ]
     },
     "execution_count": 242,
     "metadata": {},
     "output_type": "execute_result"
    }
   ],
   "source": [
    "solution(\"a B z\", 1)"
   ]
  },
  {
   "cell_type": "code",
   "execution_count": null,
   "metadata": {},
   "outputs": [],
   "source": []
  },
  {
   "cell_type": "code",
   "execution_count": null,
   "metadata": {},
   "outputs": [],
   "source": []
  },
  {
   "cell_type": "code",
   "execution_count": null,
   "metadata": {},
   "outputs": [],
   "source": []
  },
  {
   "cell_type": "code",
   "execution_count": 398,
   "metadata": {},
   "outputs": [],
   "source": [
    "# 다시 풀어보기\n",
    "# 아스키코드 65~90대문자 // 97~122소문자\n",
    "\n",
    "def sol(s, n):\n",
    "    answer = ''\n",
    "    a = []\n",
    "    for i in range(len(s)):\n",
    "        a.append(ord(s[i]))\n",
    "        \n",
    "    for i in range(len(a)):\n",
    "        if 65 <= a[i] <= 90:\n",
    "            if a[i] + n > 90:\n",
    "                a[i] = a[i] - 26\n",
    "        elif 97 <= a[i] <= 122:\n",
    "            if a[i] + n > 122:\n",
    "                a[i] = a[i] - 26\n",
    "        elif a[i] == 32:\n",
    "            a[i] = a[i] - n\n",
    "        answer += chr(a[i] + n)\n",
    "    return answer"
   ]
  },
  {
   "cell_type": "code",
   "execution_count": 399,
   "metadata": {},
   "outputs": [
    {
     "data": {
      "text/plain": [
       "'BC'"
      ]
     },
     "execution_count": 399,
     "metadata": {},
     "output_type": "execute_result"
    }
   ],
   "source": [
    "sol(\"AB\", 1)"
   ]
  },
  {
   "cell_type": "code",
   "execution_count": 400,
   "metadata": {},
   "outputs": [
    {
     "data": {
      "text/plain": [
       "'a'"
      ]
     },
     "execution_count": 400,
     "metadata": {},
     "output_type": "execute_result"
    }
   ],
   "source": [
    "sol(\"z\", 1)"
   ]
  },
  {
   "cell_type": "code",
   "execution_count": 401,
   "metadata": {},
   "outputs": [
    {
     "data": {
      "text/plain": [
       "'b C a'"
      ]
     },
     "execution_count": 401,
     "metadata": {},
     "output_type": "execute_result"
    }
   ],
   "source": [
    "sol(\"a B z\", 1)"
   ]
  },
  {
   "cell_type": "code",
   "execution_count": null,
   "metadata": {},
   "outputs": [],
   "source": []
  },
  {
   "cell_type": "code",
   "execution_count": null,
   "metadata": {},
   "outputs": [],
   "source": []
  }
 ],
 "metadata": {
  "kernelspec": {
   "display_name": "Python 3",
   "language": "python",
   "name": "python3"
  },
  "language_info": {
   "codemirror_mode": {
    "name": "ipython",
    "version": 3
   },
   "file_extension": ".py",
   "mimetype": "text/x-python",
   "name": "python",
   "nbconvert_exporter": "python",
   "pygments_lexer": "ipython3",
   "version": "3.7.4"
  }
 },
 "nbformat": 4,
 "nbformat_minor": 4
}
