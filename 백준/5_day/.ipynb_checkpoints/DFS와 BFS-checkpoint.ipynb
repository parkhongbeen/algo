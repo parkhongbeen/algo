{
 "cells": [
  {
   "cell_type": "code",
   "execution_count": 8,
   "metadata": {},
   "outputs": [
    {
     "name": "stdout",
     "output_type": "stream",
     "text": [
      "4 5 1\n",
      "1 2\n",
      "1 3\n",
      "1 4\n",
      "2 4\n",
      "3 4\n",
      "만약 [1] 안에 0 과 0 이 없다면\n",
      "만약 [1] 안에 0 과 1 이 없다면\n",
      "만약 [1] 안에 1 과 2 이 없다면\n",
      "만약 [1, 2] 안에 0 과 0 이 없다면\n",
      "만약 [1, 2] 안에 1 과 1 이 없다면\n",
      "만약 [1, 2] 안에 0 과 2 이 없다면\n",
      "만약 [1, 2] 안에 0 과 3 이 없다면\n",
      "만약 [1, 2] 안에 1 과 4 이 없다면\n",
      "만약 [1, 2, 4] 안에 0 과 0 이 없다면\n",
      "만약 [1, 2, 4] 안에 1 과 1 이 없다면\n",
      "만약 [1, 2, 4] 안에 1 과 2 이 없다면\n",
      "만약 [1, 2, 4] 안에 1 과 3 이 없다면\n",
      "만약 [1, 2, 4, 3] 안에 0 과 0 이 없다면\n",
      "만약 [1, 2, 4, 3] 안에 1 과 1 이 없다면\n",
      "만약 [1, 2, 4, 3] 안에 0 과 2 이 없다면\n",
      "만약 [1, 2, 4, 3] 안에 0 과 3 이 없다면\n",
      "만약 [1, 2, 4, 3] 안에 1 과 4 이 없다면\n",
      "만약 [1, 2, 4, 3] 안에 0 과 4 이 없다면\n",
      "만약 [1, 2, 4, 3] 안에 1 과 3 이 없다면\n",
      "만약 [1, 2, 4, 3] 안에 1 과 4 이 없다면\n",
      "[1, 2, 4, 3]\n",
      "[1, 2, 3, 4]\n"
     ]
    }
   ],
   "source": [
    "N, M, V = map(int, input().split())\n",
    "matrix = [[0] * (N + 1) for _ in range(N + 1)]\n",
    "for _ in range(M):\n",
    "    link = list(map(int, input().split()))\n",
    "    matrix[link[0]][link[1]] = 1\n",
    "    matrix[link[1]][link[0]] = 1\n",
    "\n",
    "def dfs(current_node, row, foot_prints):\n",
    "    foot_prints += [current_node]\n",
    "    for search_node in range(len(row[current_node])):\n",
    "        print('만약', foot_prints, '안에', row[current_node][search_node], '과', search_node, '이 없다면')\n",
    "        if row[current_node][search_node] and search_node not in foot_prints:\n",
    "            foot_prints = dfs(search_node, row, foot_prints)\n",
    "    return foot_prints\n",
    "\n",
    "\n",
    "def bfs(start):\n",
    "    queue = [start]\n",
    "    foot_prints = [start]\n",
    "    while queue:\n",
    "        current_node = queue.pop(0)\n",
    "        for search_node in range(len(matrix[current_node])):\n",
    "            if matrix[current_node][search_node] and search_node not in foot_prints:\n",
    "                foot_prints += [search_node]\n",
    "                queue += [search_node]\n",
    "    return foot_prints\n",
    "\n",
    "\n",
    "print(dfs(V, matrix, []))\n",
    "print(bfs(V))"
   ]
  },
  {
   "cell_type": "markdown",
   "metadata": {},
   "source": []
  },
  {
   "cell_type": "code",
   "execution_count": null,
   "metadata": {},
   "outputs": [],
   "source": []
  },
  {
   "cell_type": "code",
   "execution_count": null,
   "metadata": {},
   "outputs": [],
   "source": []
  },
  {
   "cell_type": "code",
   "execution_count": null,
   "metadata": {},
   "outputs": [],
   "source": []
  },
  {
   "cell_type": "code",
   "execution_count": null,
   "metadata": {},
   "outputs": [],
   "source": []
  }
 ],
 "metadata": {
  "kernelspec": {
   "display_name": "Python 3",
   "language": "python",
   "name": "python3"
  },
  "language_info": {
   "codemirror_mode": {
    "name": "ipython",
    "version": 3
   },
   "file_extension": ".py",
   "mimetype": "text/x-python",
   "name": "python",
   "nbconvert_exporter": "python",
   "pygments_lexer": "ipython3",
   "version": "3.7.4"
  }
 },
 "nbformat": 4,
 "nbformat_minor": 4
}
