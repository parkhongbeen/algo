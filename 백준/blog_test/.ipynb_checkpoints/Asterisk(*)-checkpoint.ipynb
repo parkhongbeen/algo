{
 "cells": [
  {
   "cell_type": "code",
   "execution_count": 2,
   "metadata": {},
   "outputs": [
    {
     "data": {
      "text/plain": [
       "12"
      ]
     },
     "execution_count": 2,
     "metadata": {},
     "output_type": "execute_result"
    }
   ],
   "source": [
    "3 * 4"
   ]
  },
  {
   "cell_type": "code",
   "execution_count": 3,
   "metadata": {},
   "outputs": [
    {
     "data": {
      "text/plain": [
       "81"
      ]
     },
     "execution_count": 3,
     "metadata": {},
     "output_type": "execute_result"
    }
   ],
   "source": [
    "3 ** 4"
   ]
  },
  {
   "cell_type": "code",
   "execution_count": 8,
   "metadata": {},
   "outputs": [],
   "source": [
    "ex_list = [0] * 10\n",
    "ex_tuple = (0,) * 10"
   ]
  },
  {
   "cell_type": "code",
   "execution_count": 9,
   "metadata": {},
   "outputs": [
    {
     "name": "stdout",
     "output_type": "stream",
     "text": [
      "[0, 0, 0, 0, 0, 0, 0, 0, 0, 0]\n"
     ]
    }
   ],
   "source": [
    "print(ex_list)"
   ]
  },
  {
   "cell_type": "code",
   "execution_count": 10,
   "metadata": {},
   "outputs": [
    {
     "name": "stdout",
     "output_type": "stream",
     "text": [
      "(0, 0, 0, 0, 0, 0, 0, 0, 0, 0)\n"
     ]
    }
   ],
   "source": [
    "print(ex_tuple)"
   ]
  },
  {
   "cell_type": "code",
   "execution_count": 13,
   "metadata": {},
   "outputs": [
    {
     "name": "stdout",
     "output_type": "stream",
     "text": [
      "{1: 'ming', 2: 'alice', 3: 'Nobody', 4: 'Nobody'}\n",
      "{1: 'alice', 2: 'ming', 3: 'mike', 4: 'Nobody'}\n",
      "{1: 'alice', 2: 'ming', 3: 'mike', 4: 'jim'}\n"
     ]
    }
   ],
   "source": [
    "def save_ranking(first, second, third=None, fourth=None):\n",
    "    rank = {}\n",
    "    rank[1], rank[2] = first, second\n",
    "    rank[3] = third if third is not None else 'Nobody'\n",
    "    rank[4] = fourth if fourth is not None else 'Nobody'\n",
    "    print(rank)\n",
    "\n",
    "# positional arguments 2개 전달\n",
    "save_ranking('ming', 'alice')\n",
    "# positional arguments 2개와 keyword argument 1개 전달\n",
    "save_ranking('alice', 'ming', third='mike')\n",
    "# positional arguments 2개와 keyword arguments 2개 전달 (단, 하나는 positional argument 형태로 전달)\n",
    "save_ranking('alice', 'ming', 'mike', fourth='jim')"
   ]
  },
  {
   "cell_type": "code",
   "execution_count": 14,
   "metadata": {},
   "outputs": [],
   "source": [
    "def save_ranking(*args):\n",
    "    print(args)"
   ]
  },
  {
   "cell_type": "code",
   "execution_count": 15,
   "metadata": {},
   "outputs": [
    {
     "name": "stdout",
     "output_type": "stream",
     "text": [
      "('ming', 'alice', 'mike', 'jim')\n"
     ]
    }
   ],
   "source": [
    "save_ranking('ming', 'alice', 'mike', 'jim')"
   ]
  },
  {
   "cell_type": "code",
   "execution_count": 17,
   "metadata": {},
   "outputs": [],
   "source": [
    "def save_ranking(*args, **kewargs):\n",
    "    print(args)\n",
    "    print(kewargs)"
   ]
  },
  {
   "cell_type": "code",
   "execution_count": 18,
   "metadata": {},
   "outputs": [
    {
     "name": "stdout",
     "output_type": "stream",
     "text": [
      "('ming', 'alice', 'mike')\n",
      "{'fourth': 'jim', 'fifth': 'tom'}\n"
     ]
    }
   ],
   "source": [
    "save_ranking('ming', 'alice', 'mike', fourth='jim', fifth='tom')"
   ]
  },
  {
   "cell_type": "code",
   "execution_count": 98,
   "metadata": {},
   "outputs": [
    {
     "data": {
      "text/plain": [
       "[2, 3, 5, 7, 11, 13]"
      ]
     },
     "execution_count": 98,
     "metadata": {},
     "output_type": "execute_result"
    }
   ],
   "source": [
    "from functools import reduce\n",
    "\n",
    "primes = [2, 3, 5, 7, 11, 13]\n",
    "\n",
    "def product(*numbers):\n",
    "    p = reduce(lambda x, y: x * y, numbers)\n",
    "    return p\n",
    "product(*primes)\n",
    "# 30030\n",
    "\n",
    "product(primes)\n",
    "# [2, 3, 5, 7, 11, 13]"
   ]
  },
  {
   "cell_type": "code",
   "execution_count": null,
   "metadata": {},
   "outputs": [],
   "source": []
  },
  {
   "cell_type": "code",
   "execution_count": null,
   "metadata": {},
   "outputs": [],
   "source": []
  },
  {
   "cell_type": "code",
   "execution_count": null,
   "metadata": {},
   "outputs": [],
   "source": []
  }
 ],
 "metadata": {
  "kernelspec": {
   "display_name": "Python 3",
   "language": "python",
   "name": "python3"
  },
  "language_info": {
   "codemirror_mode": {
    "name": "ipython",
    "version": 3
   },
   "file_extension": ".py",
   "mimetype": "text/x-python",
   "name": "python",
   "nbconvert_exporter": "python",
   "pygments_lexer": "ipython3",
   "version": "3.7.4"
  }
 },
 "nbformat": 4,
 "nbformat_minor": 4
}
