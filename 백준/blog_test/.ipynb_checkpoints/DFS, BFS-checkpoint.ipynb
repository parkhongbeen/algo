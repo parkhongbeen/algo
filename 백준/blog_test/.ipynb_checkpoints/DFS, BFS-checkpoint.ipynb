{
 "cells": [
  {
   "cell_type": "code",
   "execution_count": 1,
   "metadata": {},
   "outputs": [],
   "source": [
    "def bfs(graph, start_node):\n",
    "    visit = list()\n",
    "    queue = list()\n",
    "    \n",
    "    queue.append(start_node) # 시작노드를 큐에 넣어줌\n",
    "    \n",
    "    while queue: # 큐의 목록이 바닥날때까지 loop를 돌림\n",
    "        node = queue.pop(0) # 큐의 맨 앞 노드를 꺼내옴\n",
    "        if node not in visit: # 해당 노드가 아직 방문 리스트에 없다면\n",
    "            visit.append(node) # 방문 리스트에 추가\n",
    "            queue.extexd(graph[node]) #해당 노드의 자식노드들을 큐에 추가\n",
    "            \n",
    "    return visit"
   ]
  },
  {
   "cell_type": "code",
   "execution_count": 2,
   "metadata": {},
   "outputs": [],
   "source": [
    "def dfs(graph, start_node):\n",
    "    visit = list()\n",
    "    stack = list()\n",
    "    \n",
    "    stack.append(start_node)\n",
    "    \n",
    "    while stack:\n",
    "        node = stack.pop() # 큐의 맨 마지막 노드를 꺼내옴\n",
    "        if node not in visit:\n",
    "            visit.append(node)\n",
    "            stack.extend(graph[node])\n",
    "    return visit"
   ]
  },
  {
   "cell_type": "code",
   "execution_count": null,
   "metadata": {},
   "outputs": [],
   "source": []
  }
 ],
 "metadata": {
  "kernelspec": {
   "display_name": "Python 3",
   "language": "python",
   "name": "python3"
  },
  "language_info": {
   "codemirror_mode": {
    "name": "ipython",
    "version": 3
   },
   "file_extension": ".py",
   "mimetype": "text/x-python",
   "name": "python",
   "nbconvert_exporter": "python",
   "pygments_lexer": "ipython3",
   "version": "3.7.4"
  }
 },
 "nbformat": 4,
 "nbformat_minor": 4
}
