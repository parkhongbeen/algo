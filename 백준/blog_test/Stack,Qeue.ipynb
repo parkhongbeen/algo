{
 "cells": [
  {
   "cell_type": "code",
   "execution_count": 7,
   "metadata": {},
   "outputs": [],
   "source": [
    "a = [1, 2, 3, 4, 5]"
   ]
  },
  {
   "cell_type": "code",
   "execution_count": 9,
   "metadata": {},
   "outputs": [
    {
     "name": "stdout",
     "output_type": "stream",
     "text": [
      "[1, 2, 3, 4, 5, 6, 7]\n",
      "[1, 2, 3, 4, 5]\n"
     ]
    }
   ],
   "source": [
    "# a에 6, 7 추가\n",
    "a.append(6)\n",
    "a.append(7)\n",
    "print(a)\n",
    "a.pop()\n",
    "a.pop()\n",
    "print(a)"
   ]
  },
  {
   "cell_type": "code",
   "execution_count": 11,
   "metadata": {},
   "outputs": [
    {
     "name": "stdout",
     "output_type": "stream",
     "text": [
      "[8, 9, 10, 11, 12, 13, 14]\n",
      "[10, 11, 12, 13, 14]\n"
     ]
    }
   ],
   "source": [
    "b = [8, 9, 10, 11, 12]\n",
    "b.append(13)\n",
    "b.append(14)\n",
    "print(b)\n",
    "b.pop(0)\n",
    "b.pop(0)\n",
    "print(b)"
   ]
  },
  {
   "cell_type": "code",
   "execution_count": 19,
   "metadata": {},
   "outputs": [
    {
     "name": "stdout",
     "output_type": "stream",
     "text": [
      "deque([1, 2])\n",
      "deque([])\n"
     ]
    }
   ],
   "source": [
    "from collections import deque\n",
    "c = deque()\n",
    "c.append(1)\n",
    "c.append(2)\n",
    "print(c)\n",
    "\n",
    "c.popleft()\n",
    "c.popleft()\n",
    "print(c)"
   ]
  },
  {
   "cell_type": "code",
   "execution_count": 23,
   "metadata": {},
   "outputs": [],
   "source": [
    "class Stack(list):\n",
    "    push = list.append     # Insert\n",
    "                           # Delete - 내장 pop 메소드 활용\n",
    "    def is_empty(self):    # 데이터가 없는지 확인\n",
    "        if not self:\n",
    "            return True\n",
    "        else:\n",
    "            return False\n",
    "        \n",
    "    def peek(self):        # 최상단의 데이터 확인\n",
    "        return self[-1]"
   ]
  },
  {
   "cell_type": "code",
   "execution_count": 27,
   "metadata": {},
   "outputs": [
    {
     "name": "stdout",
     "output_type": "stream",
     "text": [
      "3 2 1 "
     ]
    }
   ],
   "source": [
    "if __name__==\"__main__\":\n",
    "    d = Stack()\n",
    "    d.push(1)\n",
    "    d.push(2)\n",
    "    d.push(3)\n",
    "    \n",
    "    while d:\n",
    "        data = d.pop()\n",
    "        print(data, end=' ') # 3, 2, 1"
   ]
  },
  {
   "cell_type": "code",
   "execution_count": 28,
   "metadata": {},
   "outputs": [],
   "source": [
    "class Queue(list):\n",
    "    enqueue = list.append  # enqueue -> Insert의 관용적인 이름\n",
    "    \n",
    "    def dequeu(self):      # delete\n",
    "        return self.pop(0)\n",
    "    \n",
    "    def is_empty(self):\n",
    "        if not self:\n",
    "            return True\n",
    "        else:\n",
    "            return False\n",
    "        \n",
    "    def peek(self):\n",
    "        return self[0]"
   ]
  },
  {
   "cell_type": "code",
   "execution_count": 29,
   "metadata": {},
   "outputs": [
    {
     "name": "stdout",
     "output_type": "stream",
     "text": [
      "1 2 3 4 5 "
     ]
    }
   ],
   "source": [
    "if __name__==\"__main__\":\n",
    "    e = Queue()\n",
    "    e.enqueue(1)\n",
    "    e.enqueue(2)\n",
    "    e.enqueue(3)\n",
    "    e.enqueue(4)\n",
    "    e.enqueue(5)\n",
    "    \n",
    "    while not e.is_empty():\n",
    "        print(e.dequeu(), end=' ') # 1 2 3 4 5"
   ]
  },
  {
   "cell_type": "code",
   "execution_count": null,
   "metadata": {},
   "outputs": [],
   "source": []
  }
 ],
 "metadata": {
  "kernelspec": {
   "display_name": "Python 3",
   "language": "python",
   "name": "python3"
  },
  "language_info": {
   "codemirror_mode": {
    "name": "ipython",
    "version": 3
   },
   "file_extension": ".py",
   "mimetype": "text/x-python",
   "name": "python",
   "nbconvert_exporter": "python",
   "pygments_lexer": "ipython3",
   "version": "3.7.4"
  }
 },
 "nbformat": 4,
 "nbformat_minor": 4
}
