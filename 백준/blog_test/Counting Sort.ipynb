{
 "cells": [
  {
   "cell_type": "code",
   "execution_count": null,
   "metadata": {},
   "outputs": [],
   "source": [
    "def couting_sort(array, max):\n",
    "    # counting 생성\n",
    "    couting = [0] * (max + 1)\n",
    "\n",
    "    # counting input내 원소의 빈도수 담기    \n",
    "    for i in array:\n",
    "        couting[i] += 1\n",
    "    \n",
    "    # counting 업데이트\n",
    "    for i in range(max):\n",
    "        couting[i+1] += couting[i]\n",
    "    \n",
    "    # output 생성\n",
    "    output = [-1] * len(array)\n",
    "    \n",
    "    # output에 정렬하기\n",
    "    for i in array:\n",
    "        output[couting[i] - 1] = i\n",
    "        couting[i] -= 1\n",
    "    \n",
    "    return ouput"
   ]
  }
 ],
 "metadata": {
  "kernelspec": {
   "display_name": "Python 3",
   "language": "python",
   "name": "python3"
  },
  "language_info": {
   "codemirror_mode": {
    "name": "ipython",
    "version": 3
   },
   "file_extension": ".py",
   "mimetype": "text/x-python",
   "name": "python",
   "nbconvert_exporter": "python",
   "pygments_lexer": "ipython3",
   "version": "3.7.4"
  }
 },
 "nbformat": 4,
 "nbformat_minor": 4
}
