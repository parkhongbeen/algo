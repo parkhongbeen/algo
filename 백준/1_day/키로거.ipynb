{
 "cells": [
  {
   "cell_type": "code",
   "execution_count": 2,
   "metadata": {},
   "outputs": [
    {
     "name": "stdout",
     "output_type": "stream",
     "text": [
      "2\n",
      "<<BP<A>>Cd-\n",
      "BAPC\n",
      "ThIsIsS3Cr3t\n",
      "ThIsIsS3Cr3t\n"
     ]
    }
   ],
   "source": [
    "test_case = int(input())\n",
    "\n",
    "for i in range(test_case):\n",
    "    left_stack = []\n",
    "    right_stack = []\n",
    "    data = input()\n",
    "    for i in data:\n",
    "        if i == '-':\n",
    "            if left_stack:\n",
    "                left_stack.pop()\n",
    "        elif i == '<':\n",
    "            if left_stack:\n",
    "                right_stack.append(left_stack.pop())\n",
    "        elif i == '>':\n",
    "            if right_stack:\n",
    "                left_stack.append(right_stack.pop())\n",
    "        else:\n",
    "            left_stack.append(i)\n",
    "    left_stack.extend(reversed(right_stack))\n",
    "    print(''.join(left_stack))"
   ]
  },
  {
   "cell_type": "code",
   "execution_count": 1,
   "metadata": {},
   "outputs": [
    {
     "name": "stdout",
     "output_type": "stream",
     "text": [
      "2\n",
      "<<BP<A>>Cd-\n",
      "BAPC\n",
      "ThIsIsS3Cr3t\n",
      "ThIsIsS3Cr3t\n"
     ]
    }
   ],
   "source": [
    "test = int(input())\n",
    "\n",
    "for i in range(test):\n",
    "    left = []\n",
    "    right = []\n",
    "    data = input()\n",
    "    for j in data:\n",
    "        if j == '-':\n",
    "            if left:\n",
    "                left.pop()\n",
    "        elif j == '<':\n",
    "            if left:\n",
    "                right.append(left.pop())\n",
    "        elif j == '>':\n",
    "            if right:\n",
    "                left.append(right.pop())\n",
    "        else:\n",
    "            left.append(j)\n",
    "    left.extend(reversed(right))\n",
    "    print(''.join(left))"
   ]
  },
  {
   "cell_type": "code",
   "execution_count": null,
   "metadata": {},
   "outputs": [],
   "source": []
  }
 ],
 "metadata": {
  "kernelspec": {
   "display_name": "Python 3",
   "language": "python",
   "name": "python3"
  },
  "language_info": {
   "codemirror_mode": {
    "name": "ipython",
    "version": 3
   },
   "file_extension": ".py",
   "mimetype": "text/x-python",
   "name": "python",
   "nbconvert_exporter": "python",
   "pygments_lexer": "ipython3",
   "version": "3.7.4"
  }
 },
 "nbformat": 4,
 "nbformat_minor": 4
}
