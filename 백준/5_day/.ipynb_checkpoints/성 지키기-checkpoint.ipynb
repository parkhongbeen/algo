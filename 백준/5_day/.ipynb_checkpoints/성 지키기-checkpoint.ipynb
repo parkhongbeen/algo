{
 "cells": [
  {
   "cell_type": "code",
   "execution_count": 33,
   "metadata": {},
   "outputs": [
    {
     "name": "stdout",
     "output_type": "stream",
     "text": [
      "4 4\n",
      "....\n",
      "....\n",
      "....\n",
      "....\n",
      "4\n"
     ]
    }
   ],
   "source": [
    "n, m = map(int, input().split())\n",
    "array = []\n",
    "\n",
    "for _ in range(n):\n",
    "    array.append(input())\n",
    "    \n",
    "row = [0] * n\n",
    "cal = [0] * m\n",
    "\n",
    "for i in range(n):\n",
    "    for j in range(m):\n",
    "        if array[i][j] == 'X':\n",
    "            row[i] = 1\n",
    "            cal[j] = 1\n",
    "\n",
    "row_count = 0\n",
    "for i in range(n):\n",
    "    if row[i] == 0:\n",
    "        row_count += 1\n",
    "        \n",
    "cal_count = 0\n",
    "for j in range(m):\n",
    "    if cal[i] == 0:\n",
    "        cal_count += 1\n",
    "\n",
    "print(max(row_count, cal_count))\n",
    "        \n"
   ]
  },
  {
   "cell_type": "code",
   "execution_count": null,
   "metadata": {},
   "outputs": [],
   "source": []
  }
 ],
 "metadata": {
  "kernelspec": {
   "display_name": "Python 3",
   "language": "python",
   "name": "python3"
  },
  "language_info": {
   "codemirror_mode": {
    "name": "ipython",
    "version": 3
   },
   "file_extension": ".py",
   "mimetype": "text/x-python",
   "name": "python",
   "nbconvert_exporter": "python",
   "pygments_lexer": "ipython3",
   "version": "3.7.4"
  }
 },
 "nbformat": 4,
 "nbformat_minor": 4
}
