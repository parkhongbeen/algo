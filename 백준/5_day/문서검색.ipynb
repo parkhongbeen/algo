{
 "cells": [
  {
   "cell_type": "code",
   "execution_count": 1,
   "metadata": {},
   "outputs": [
    {
     "name": "stdout",
     "output_type": "stream",
     "text": [
      "ababababa\n",
      "aba\n",
      "2\n"
     ]
    }
   ],
   "source": [
    "doc = input()\n",
    "word = input()\n",
    "\n",
    "count = 0\n",
    "i = 0\n",
    "\n",
    "while len(doc) - i >= len(word):\n",
    "    if doc[i:i + len(word)] == word:\n",
    "        count += 1\n",
    "        i += len(word)\n",
    "    else:\n",
    "        i += 1\n",
    "        \n",
    "print(count)"
   ]
  },
  {
   "cell_type": "code",
   "execution_count": null,
   "metadata": {},
   "outputs": [],
   "source": [
    "\n"
   ]
  }
 ],
 "metadata": {
  "kernelspec": {
   "display_name": "Python 3",
   "language": "python",
   "name": "python3"
  },
  "language_info": {
   "codemirror_mode": {
    "name": "ipython",
    "version": 3
   },
   "file_extension": ".py",
   "mimetype": "text/x-python",
   "name": "python",
   "nbconvert_exporter": "python",
   "pygments_lexer": "ipython3",
   "version": "3.7.4"
  }
 },
 "nbformat": 4,
 "nbformat_minor": 4
}
