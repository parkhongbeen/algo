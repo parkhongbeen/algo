{
 "cells": [
  {
   "cell_type": "code",
   "execution_count": 7,
   "metadata": {},
   "outputs": [
    {
     "name": "stdout",
     "output_type": "stream",
     "text": [
      "10\n",
      "3\n"
     ]
    }
   ],
   "source": [
    "# minimum리스트를 선언하고 초기값으로 입력값을 넣음\n",
    "a = int(input())\n",
    "count = 0\n",
    "minimum = [a]\n",
    "\n",
    "# 3가지 연산을 수행하고 그 결과값을 배열로써 반환하는 함수\n",
    "def cal(a):\n",
    "    lst = []\n",
    "    for i in a:\n",
    "        lst.append(i - 1)\n",
    "        if i % 3 == 0:\n",
    "            lst.append(i / 3)\n",
    "        if i % 2 == 0:\n",
    "            lst.append(i / 2)\n",
    "    return lst\n",
    "    \n",
    "# 입력값이 1일때는 처리,이 후 minimum배열을 복사해서 temp배열을 구성하고, minimum배열은 다시 비우도록 함\n",
    "# 단순히 하나의 배열에 계속 넣게되면 메모리 초과가 날 수 있음\n",
    "# temp를 cal()함수의 인자로 넣어 연산을 수행, 결과값 배열을 minimum으로 받음\n",
    "# 연산 countfmf 1증가 시키고 minimum에 있는 값중 최소값이 1일때 count값을 출력하며 반복문을 마무리 함\n",
    "while True:\n",
    "    if a == 1:\n",
    "        print(count)\n",
    "        break\n",
    "    temp = minimum[:]\n",
    "    minimum = []\n",
    "    minimum = cal(temp)\n",
    "    count += 1\n",
    "    if min(minimum) == 1:\n",
    "        print(count)\n",
    "        break"
   ]
  },
  {
   "cell_type": "code",
   "execution_count": null,
   "metadata": {},
   "outputs": [],
   "source": []
  },
  {
   "cell_type": "code",
   "execution_count": null,
   "metadata": {},
   "outputs": [],
   "source": []
  }
 ],
 "metadata": {
  "kernelspec": {
   "display_name": "Python 3",
   "language": "python",
   "name": "python3"
  },
  "language_info": {
   "codemirror_mode": {
    "name": "ipython",
    "version": 3
   },
   "file_extension": ".py",
   "mimetype": "text/x-python",
   "name": "python",
   "nbconvert_exporter": "python",
   "pygments_lexer": "ipython3",
   "version": "3.7.4"
  }
 },
 "nbformat": 4,
 "nbformat_minor": 4
}
