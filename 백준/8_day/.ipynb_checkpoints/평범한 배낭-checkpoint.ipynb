{
 "cells": [
  {
   "cell_type": "code",
   "execution_count": 8,
   "metadata": {},
   "outputs": [
    {
     "name": "stdout",
     "output_type": "stream",
     "text": [
      "4 7\n",
      "6 13 \n",
      "j>>> 1\n",
      "dp[i][j]>>> 0\n",
      "j>>> 2\n",
      "dp[i][j]>>> 0\n",
      "j>>> 3\n",
      "dp[i][j]>>> 0\n",
      "j>>> 4\n",
      "dp[i][j]>>> 0\n",
      "j>>> 5\n",
      "dp[i][j]>>> 0\n",
      "j>>> 6\n",
      "j>>> 7\n",
      "4 8\n",
      "j>>> 1\n",
      "dp[i][j]>>> 0\n",
      "j>>> 2\n",
      "dp[i][j]>>> 0\n",
      "j>>> 3\n",
      "dp[i][j]>>> 0\n",
      "j>>> 4\n",
      "j>>> 5\n",
      "j>>> 6\n",
      "j>>> 7\n",
      "3 6\n",
      "j>>> 1\n",
      "dp[i][j]>>> 0\n",
      "j>>> 2\n",
      "dp[i][j]>>> 0\n",
      "j>>> 3\n",
      "j>>> 4\n",
      "j>>> 5\n",
      "j>>> 6\n",
      "j>>> 7\n",
      "5 12\n",
      "j>>> 1\n",
      "dp[i][j]>>> 0\n",
      "j>>> 2\n",
      "dp[i][j]>>> 0\n",
      "j>>> 3\n",
      "dp[i][j]>>> 6\n",
      "j>>> 4\n",
      "dp[i][j]>>> 8\n",
      "j>>> 5\n",
      "j>>> 6\n",
      "j>>> 7\n",
      "14\n"
     ]
    }
   ],
   "source": [
    "n, k = map(int, input().split())\n",
    "dp = [[0] * (k + 1) for _ in range(n + 1)]\n",
    "\n",
    "for i in range(1, n + 1):\n",
    "    weight, value = map(int, input().split())\n",
    "    for j in range(1, k + 1):\n",
    "        print('j>>>', j)\n",
    "        if j < weight:\n",
    "            dp[i][j] = dp[i - 1][j]\n",
    "            print('dp[i][j]>>>', dp[i][j])\n",
    "        else:\n",
    "            dp[i][j] = max(dp[i - 1][j], dp[i - 1][j - weight] + value)\n",
    "            \n",
    "    \n",
    "\n",
    "print(dp[n][k])"
   ]
  },
  {
   "cell_type": "code",
   "execution_count": null,
   "metadata": {},
   "outputs": [],
   "source": []
  }
 ],
 "metadata": {
  "kernelspec": {
   "display_name": "Python 3",
   "language": "python",
   "name": "python3"
  },
  "language_info": {
   "codemirror_mode": {
    "name": "ipython",
    "version": 3
   },
   "file_extension": ".py",
   "mimetype": "text/x-python",
   "name": "python",
   "nbconvert_exporter": "python",
   "pygments_lexer": "ipython3",
   "version": "3.7.4"
  }
 },
 "nbformat": 4,
 "nbformat_minor": 4
}
