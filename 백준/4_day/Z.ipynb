{
 "cells": [
  {
   "cell_type": "code",
   "execution_count": 19,
   "metadata": {},
   "outputs": [
    {
     "name": "stdout",
     "output_type": "stream",
     "text": [
      "2 3 1\n",
      "11\n"
     ]
    }
   ],
   "source": [
    "n, x, y = map(int, input().split())\n",
    "result = 0\n",
    "while n > 0:\n",
    "    temp = (2 ** n)//2\n",
    "    if n > 1:\n",
    "        if temp > x and temp <= y:\n",
    "            result += temp ** 2\n",
    "            y -= temp\n",
    "        elif temp <= x and temp > y:\n",
    "            result += (temp ** 2) * 2\n",
    "            x -= temp\n",
    "        elif temp <= x and temp <= y:\n",
    "            result += (temp ** 2) * 3\n",
    "            x -= temp\n",
    "            y -= temp\n",
    "    elif n == 1:\n",
    "        if x == 0 and y == 1:\n",
    "            result += 1\n",
    "        elif x == 1 and y == 0:\n",
    "            result += 1\n",
    "        elif x == 1 and y == 1:\n",
    "            result += 3\n",
    "    n -= 1\n",
    "print(result)\n"
   ]
  },
  {
   "cell_type": "code",
   "execution_count": null,
   "metadata": {},
   "outputs": [],
   "source": []
  },
  {
   "cell_type": "code",
   "execution_count": null,
   "metadata": {},
   "outputs": [],
   "source": []
  },
  {
   "cell_type": "code",
   "execution_count": null,
   "metadata": {},
   "outputs": [],
   "source": []
  }
 ],
 "metadata": {
  "kernelspec": {
   "display_name": "Python 3",
   "language": "python",
   "name": "python3"
  },
  "language_info": {
   "codemirror_mode": {
    "name": "ipython",
    "version": 3
   },
   "file_extension": ".py",
   "mimetype": "text/x-python",
   "name": "python",
   "nbconvert_exporter": "python",
   "pygments_lexer": "ipython3",
   "version": "3.7.4"
  }
 },
 "nbformat": 4,
 "nbformat_minor": 4
}
