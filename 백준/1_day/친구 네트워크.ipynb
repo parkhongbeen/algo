{
 "cells": [
  {
   "cell_type": "code",
   "execution_count": 2,
   "metadata": {},
   "outputs": [
    {
     "name": "stdout",
     "output_type": "stream",
     "text": [
      "2\n",
      "3\n",
      "Fred Barney\n",
      "2\n",
      "Barney Betty\n",
      "3\n",
      "Betty Wilma\n",
      "4\n",
      "3\n",
      "Fred Barney\n",
      "2\n",
      "Betty Wilma\n",
      "2\n",
      "Barney Betty\n",
      "4\n"
     ]
    }
   ],
   "source": [
    "test_case = int(input())\n",
    "\n",
    "def find(x):\n",
    "    if x == parent[x]:\n",
    "        return x\n",
    "    else:\n",
    "        parent[x] = find(parent[x])\n",
    "        return parent[x]\n",
    "    \n",
    "\n",
    "def union(x, y):\n",
    "    x = find(x)\n",
    "    y = find(y)\n",
    "    \n",
    "    if x != y:\n",
    "        parent[y] = x\n",
    "        number[x] += number[y]\n",
    "        \n",
    "\n",
    "for _ in range(test_case):\n",
    "    parent = dict()\n",
    "    number = dict()\n",
    "    \n",
    "    f = int(input())\n",
    "\n",
    "    for _ in range(f):\n",
    "        x, y = input().split(' ')\n",
    "        if x not in parent:\n",
    "            parent[x] = x\n",
    "            number[x] = 1\n",
    "        if y not in parent:\n",
    "            parent[y] = y\n",
    "            number[y] = 1\n",
    "        union(x, y)\n",
    "        print(number[find(x)])"
   ]
  },
  {
   "cell_type": "markdown",
   "metadata": {},
   "source": []
  },
  {
   "cell_type": "code",
   "execution_count": 4,
   "metadata": {},
   "outputs": [
    {
     "name": "stdout",
     "output_type": "stream",
     "text": [
      "2\n",
      "3\n",
      "Fred Barney\n",
      "2\n",
      "Barney Betty\n",
      "3\n",
      "Betty Wilma\n",
      "4\n",
      "3\n",
      "Fred Barney\n",
      "2\n",
      "Betty Wilma\n",
      "2\n",
      "Barney Betty\n",
      "4\n"
     ]
    }
   ],
   "source": [
    "test_case = int(input())\n",
    "\n",
    "def find(x):\n",
    "    if parent[x] == x:\n",
    "        return x\n",
    "    else:\n",
    "        parent[x] = find(parent[x])\n",
    "        return parent[x]\n",
    "    \n",
    "\n",
    "def union(x, y):\n",
    "    x = find(x)\n",
    "    y = find(y)\n",
    "    \n",
    "    if x != y:\n",
    "        parent[y] = x\n",
    "        number[x] += number[y]\n",
    "        \n",
    "\n",
    "for i in range(test_case):\n",
    "    parent = dict()\n",
    "    number = dict()\n",
    "    f = int(input())\n",
    "    \n",
    "    for j in range(f):\n",
    "        x, y = input().split(' ')\n",
    "        \n",
    "        if x not in parent:\n",
    "            parent[x] = x\n",
    "            number[x] = 1\n",
    "        if y not in parent:\n",
    "            parent[y] = y\n",
    "            number[y] = 1\n",
    "        union(x, y)\n",
    "        print(number[find(x)])"
   ]
  },
  {
   "cell_type": "code",
   "execution_count": null,
   "metadata": {},
   "outputs": [],
   "source": []
  },
  {
   "cell_type": "code",
   "execution_count": null,
   "metadata": {},
   "outputs": [],
   "source": []
  }
 ],
 "metadata": {
  "kernelspec": {
   "display_name": "Python 3",
   "language": "python",
   "name": "python3"
  },
  "language_info": {
   "codemirror_mode": {
    "name": "ipython",
    "version": 3
   },
   "file_extension": ".py",
   "mimetype": "text/x-python",
   "name": "python",
   "nbconvert_exporter": "python",
   "pygments_lexer": "ipython3",
   "version": "3.7.4"
  }
 },
 "nbformat": 4,
 "nbformat_minor": 4
}
