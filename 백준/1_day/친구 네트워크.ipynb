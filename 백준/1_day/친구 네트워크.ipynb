{
 "cells": [
  {
   "cell_type": "code",
   "execution_count": null,
   "metadata": {},
   "outputs": [],
   "source": [
    "test_case = int(input())\n",
    "\n",
    "def find(x):\n",
    "    if x == parent[x]:\n",
    "        return x\n",
    "    else:\n",
    "        p = find(parent[x])\n",
    "        parent[x] = p\n",
    "        return parent[x]\n",
    "    \n",
    "\n",
    "def union(x, y):\n",
    "    x = find(x)\n",
    "    y = find(y)\n",
    "    \n",
    "    if x != y:\n",
    "        parent[x] = x\n",
    "        number[x] += number[y]\n",
    "        \n",
    "\n",
    "for _ in range(test_case):\n",
    "    parent = dict()\n",
    "    number = dict()\n",
    "    \n",
    "    f = int(input())\n",
    "\n",
    "    for _ in range(f):\n",
    "        x, y = input().split(' ')\n",
    "        if x not in parent:\n",
    "            parent[x] = x\n",
    "            parent[x] = 1\n",
    "        if y not in parent:\n",
    "            parent[y] = y\n",
    "            number[y] = 1\n",
    "    union(x, y)\n",
    "    print(number[find(x)])"
   ]
  },
  {
   "cell_type": "code",
   "execution_count": null,
   "metadata": {},
   "outputs": [],
   "source": []
  }
 ],
 "metadata": {
  "kernelspec": {
   "display_name": "Python 3",
   "language": "python",
   "name": "python3"
  }
 },
 "nbformat": 4,
 "nbformat_minor": 4
}
