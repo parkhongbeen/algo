{
 "cells": [
  {
   "cell_type": "code",
   "execution_count": null,
   "metadata": {},
   "outputs": [],
   "source": [
    "testcase=int(input())\n",
    "answer=[]\n",
    "for test in range(testcase):\n",
    "    que = []\n",
    "    N,M=map(int,input().split(\" \")) # N=문서의수 M=원하는 문서 인덱스\n",
    "    qurio=list(map(int,input().split(\" \"))) # 중요도순서     \n",
    "    qurio=[(data,index) for index,data in enumerate(qurio)] # [[1,0],[0,1]].. 순으로 인덱스 매겨져서 우선순위가 적용됨.     \n",
    "    count=0\n",
    "    while(True):\n",
    "        if qurio[0][0] == max(qurio, key=lambda x: x[0])[0]: #가장 큰 우선순위라면             \n",
    "            count += 1\n",
    "            if qurio[0][1]==M: # 내가 원하는 문서라면                 \n",
    "                answer.append(count)\n",
    "                break;\n",
    "            else: # 원하는 문서가 아니라면                 \n",
    "                qurio.pop(0) #가장 큰 우선순위니까 뽑는다.         \n",
    "        else:\n",
    "            temp=qurio.pop(0)\n",
    "            qurio.append(temp)\n",
    "for prt in answer:\n",
    "    print(prt)"
   ]
  },
  {
   "cell_type": "code",
   "execution_count": null,
   "metadata": {},
   "outputs": [],
   "source": []
  }
 ],
 "metadata": {
  "kernelspec": {
   "display_name": "Python 3",
   "language": "python",
   "name": "python3"
  },
  "language_info": {
   "codemirror_mode": {
    "name": "ipython",
    "version": 3
   },
   "file_extension": ".py",
   "mimetype": "text/x-python",
   "name": "python",
   "nbconvert_exporter": "python",
   "pygments_lexer": "ipython3",
   "version": "3.7.4"
  }
 },
 "nbformat": 4,
 "nbformat_minor": 4
}
