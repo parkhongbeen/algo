{
 "cells": [
  {
   "cell_type": "code",
   "execution_count": 4,
   "metadata": {},
   "outputs": [
    {
     "name": "stdout",
     "output_type": "stream",
     "text": [
      "800\n",
      "2\n"
     ]
    }
   ],
   "source": [
    "money = int(input()) \n",
    "\n",
    "#거스름돈 \n",
    "change = 1000 - money \n",
    "#거스름돈 종류 \n",
    "change_money = [500, 100, 50, 10, 5, 1] \n",
    "#동전 개수 \n",
    "num = 0 \n",
    "\n",
    "for i in range(6): \n",
    "    coin = change_money[i] \n",
    "    if change >= change_money[i]: \n",
    "        mok = change // coin \n",
    "        change -= coin * mok \n",
    "        num += mok \n",
    "        \n",
    "print(num)"
   ]
  },
  {
   "cell_type": "code",
   "execution_count": null,
   "metadata": {},
   "outputs": [],
   "source": []
  }
 ],
 "metadata": {
  "kernelspec": {
   "display_name": "Python 3",
   "language": "python",
   "name": "python3"
  },
  "language_info": {
   "codemirror_mode": {
    "name": "ipython",
    "version": 3
   },
   "file_extension": ".py",
   "mimetype": "text/x-python",
   "name": "python",
   "nbconvert_exporter": "python",
   "pygments_lexer": "ipython3",
   "version": "3.7.4"
  }
 },
 "nbformat": 4,
 "nbformat_minor": 4
}
