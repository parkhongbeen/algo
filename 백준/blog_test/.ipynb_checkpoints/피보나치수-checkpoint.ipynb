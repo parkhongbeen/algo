{
 "cells": [
  {
   "cell_type": "code",
   "execution_count": 6,
   "metadata": {
    "scrolled": true
   },
   "outputs": [
    {
     "name": "stdout",
     "output_type": "stream",
     "text": [
      "10\n",
      "55\n"
     ]
    }
   ],
   "source": [
    "# Bottom-up\n",
    "n = int(input())\n",
    "dp = [0 for _ in range(n + 1)]\n",
    "dp[1] = 1\n",
    "\n",
    "for i in range(2, n + 1):\n",
    "    dp[i] = dp[i - 1] + dp[i -2]\n",
    "    \n",
    "print(dp[n])\n",
    "# 1+2+3+4+...+10 = 55"
   ]
  },
  {
   "cell_type": "code",
   "execution_count": 8,
   "metadata": {},
   "outputs": [
    {
     "name": "stdout",
     "output_type": "stream",
     "text": [
      "10\n",
      "55\n"
     ]
    }
   ],
   "source": [
    "# Top-down\n",
    "n = int(input())\n",
    "dp = [0 for _ in range(n + 1)]\n",
    "\n",
    "def fib(n):\n",
    "    if n < 2:\n",
    "        return n\n",
    "    if dp[n] != 0:\n",
    "        return dp[n]\n",
    "    else:\n",
    "        dp[n] = fib(n - 1) + fib(n - 2)\n",
    "    return dp[n]\n",
    "\n",
    "print(fib(n))"
   ]
  },
  {
   "cell_type": "code",
   "execution_count": null,
   "metadata": {},
   "outputs": [],
   "source": []
  }
 ],
 "metadata": {
  "kernelspec": {
   "display_name": "Python 3",
   "language": "python",
   "name": "python3"
  },
  "language_info": {
   "codemirror_mode": {
    "name": "ipython",
    "version": 3
   },
   "file_extension": ".py",
   "mimetype": "text/x-python",
   "name": "python",
   "nbconvert_exporter": "python",
   "pygments_lexer": "ipython3",
   "version": "3.7.4"
  }
 },
 "nbformat": 4,
 "nbformat_minor": 4
}
